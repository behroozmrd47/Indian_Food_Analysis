{
  "nbformat": 4,
  "nbformat_minor": 0,
  "metadata": {
    "colab": {
      "name": "Indian_food_analysis.ipynb",
      "provenance": [],
      "collapsed_sections": [],
      "authorship_tag": "ABX9TyO4kqXSf+hlyE0dWvo5iuJZ",
      "include_colab_link": true
    },
    "kernelspec": {
      "name": "python3",
      "display_name": "Python 3"
    }
  },
  "cells": [
    {
      "cell_type": "markdown",
      "metadata": {
        "id": "view-in-github",
        "colab_type": "text"
      },
      "source": [
        "<a href=\"https://colab.research.google.com/github/behroozmrd47/Indian_Food_Analysis/blob/develop/Indian_food_analysis.ipynb\" target=\"_parent\"><img src=\"https://colab.research.google.com/assets/colab-badge.svg\" alt=\"Open In Colab\"/></a>"
      ]
    },
    {
      "cell_type": "markdown",
      "metadata": {
        "id": "griSeGYXJk7S"
      },
      "source": [
        "# Indian_Food_Analysis\n",
        "\n",
        "##Intro\n",
        "The goal of this notebook is to analyze the [Indian Food Dataset](https://www.kaggle.com/nehaprabhavalkar/indian-food-101) avaialble on Kaggle. below is a list of objectives to be done here:\n",
        "\n",
        "* Visualize and analysis data\n",
        "* Create filtering functions\n",
        "* Create ML-based function for detecting similar foods\n",
        "* Create ML-based recommendation function for recommending Gluten-free Food\n",
        "\n",
        "##Table of Contents\n",
        "* Data Exploration & Visualization\n",
        "* Filter Function\n",
        "* Recommending Similar Dishes\n",
        "* Recommendation System for Gluten Free Dishes\n"
      ]
    },
    {
      "cell_type": "code",
      "metadata": {
        "id": "yRZhcP4e5e4A"
      },
      "source": [
        "#Import necesary packages\n",
        "\n",
        "import pandas as pd\n",
        "import numpy as np\n",
        "import matplotlib.pyplot as plt \n",
        "plt.rc(\"font\", size=14)\n",
        "import seaborn as sns\n",
        "sns.set(style=\"white\")\n",
        "sns.set(style=\"whitegrid\", color_codes=True)\n",
        "from IPython.display import display"
      ],
      "execution_count": 238,
      "outputs": []
    },
    {
      "cell_type": "markdown",
      "metadata": {
        "id": "2XPtgC3epXMP"
      },
      "source": [
        "## Data Exploration & Visualization\n",
        "Data can be found on [Kaggle Indian Food Dataset](https://www.kaggle.com/nehaprabhavalkar/indian-food-101). The Indian Food Dataset has information regarding 255 Indian dishes with 9 fields: 'name', 'ingredients', 'diet', 'prep_time', 'cook_time', 'flavor_profile', 'course', 'state' and 'region'. A couple of typos e.g. \"yoghurt\" that was encountered while working with data is fixed."
      ]
    },
    {
      "cell_type": "code",
      "metadata": {
        "id": "JL2WlUnkNpik",
        "outputId": "b0e2fb1c-c155-4b1f-b8e8-5903db38b76a",
        "colab": {
          "base_uri": "https://localhost:8080/",
          "height": 238
        }
      },
      "source": [
        "data = pd.read_csv('indian_food.csv', header=0)\n",
        "print('Dataset size is %s' % str(data.shape))\n",
        "print('Dataset columns are %s' % list(data.columns))\n",
        "\n",
        "# Lower casing all values and handling typos\n",
        "for col_name in ['name', 'ingredients', 'diet', 'flavor_profile', 'course', 'state', 'region']:\n",
        "    data[col_name] = data[col_name].str.lower()\n",
        "data['ingredients'] = data['ingredients'].str.replace('chilli', 'chili')\n",
        "data['ingredients'] = data['ingredients'].str.replace('yoghurt', 'yogurt')\n",
        "display(data.head())\n"
      ],
      "execution_count": 239,
      "outputs": [
        {
          "output_type": "stream",
          "text": [
            "Dataset size is (255, 9)\n",
            "Dataset columns are ['name', 'ingredients', 'diet', 'prep_time', 'cook_time', 'flavor_profile', 'course', 'state', 'region']\n"
          ],
          "name": "stdout"
        },
        {
          "output_type": "display_data",
          "data": {
            "text/html": [
              "<div>\n",
              "<style scoped>\n",
              "    .dataframe tbody tr th:only-of-type {\n",
              "        vertical-align: middle;\n",
              "    }\n",
              "\n",
              "    .dataframe tbody tr th {\n",
              "        vertical-align: top;\n",
              "    }\n",
              "\n",
              "    .dataframe thead th {\n",
              "        text-align: right;\n",
              "    }\n",
              "</style>\n",
              "<table border=\"1\" class=\"dataframe\">\n",
              "  <thead>\n",
              "    <tr style=\"text-align: right;\">\n",
              "      <th></th>\n",
              "      <th>name</th>\n",
              "      <th>ingredients</th>\n",
              "      <th>diet</th>\n",
              "      <th>prep_time</th>\n",
              "      <th>cook_time</th>\n",
              "      <th>flavor_profile</th>\n",
              "      <th>course</th>\n",
              "      <th>state</th>\n",
              "      <th>region</th>\n",
              "    </tr>\n",
              "  </thead>\n",
              "  <tbody>\n",
              "    <tr>\n",
              "      <th>0</th>\n",
              "      <td>balu shahi</td>\n",
              "      <td>maida flour, yogurt, oil, sugar</td>\n",
              "      <td>vegetarian</td>\n",
              "      <td>45</td>\n",
              "      <td>25</td>\n",
              "      <td>sweet</td>\n",
              "      <td>dessert</td>\n",
              "      <td>west bengal</td>\n",
              "      <td>east</td>\n",
              "    </tr>\n",
              "    <tr>\n",
              "      <th>1</th>\n",
              "      <td>boondi</td>\n",
              "      <td>gram flour, ghee, sugar</td>\n",
              "      <td>vegetarian</td>\n",
              "      <td>80</td>\n",
              "      <td>30</td>\n",
              "      <td>sweet</td>\n",
              "      <td>dessert</td>\n",
              "      <td>rajasthan</td>\n",
              "      <td>west</td>\n",
              "    </tr>\n",
              "    <tr>\n",
              "      <th>2</th>\n",
              "      <td>gajar ka halwa</td>\n",
              "      <td>carrots, milk, sugar, ghee, cashews, raisins</td>\n",
              "      <td>vegetarian</td>\n",
              "      <td>15</td>\n",
              "      <td>60</td>\n",
              "      <td>sweet</td>\n",
              "      <td>dessert</td>\n",
              "      <td>punjab</td>\n",
              "      <td>north</td>\n",
              "    </tr>\n",
              "    <tr>\n",
              "      <th>3</th>\n",
              "      <td>ghevar</td>\n",
              "      <td>flour, ghee, kewra, milk, clarified butter, su...</td>\n",
              "      <td>vegetarian</td>\n",
              "      <td>15</td>\n",
              "      <td>30</td>\n",
              "      <td>sweet</td>\n",
              "      <td>dessert</td>\n",
              "      <td>rajasthan</td>\n",
              "      <td>west</td>\n",
              "    </tr>\n",
              "    <tr>\n",
              "      <th>4</th>\n",
              "      <td>gulab jamun</td>\n",
              "      <td>milk powder, plain flour, baking powder, ghee,...</td>\n",
              "      <td>vegetarian</td>\n",
              "      <td>15</td>\n",
              "      <td>40</td>\n",
              "      <td>sweet</td>\n",
              "      <td>dessert</td>\n",
              "      <td>west bengal</td>\n",
              "      <td>east</td>\n",
              "    </tr>\n",
              "  </tbody>\n",
              "</table>\n",
              "</div>"
            ],
            "text/plain": [
              "             name  ... region\n",
              "0      balu shahi  ...   east\n",
              "1          boondi  ...   west\n",
              "2  gajar ka halwa  ...  north\n",
              "3          ghevar  ...   west\n",
              "4     gulab jamun  ...   east\n",
              "\n",
              "[5 rows x 9 columns]"
            ]
          },
          "metadata": {
            "tags": []
          }
        }
      ]
    },
    {
      "cell_type": "markdown",
      "metadata": {
        "id": "ym-T5ff4TcwO"
      },
      "source": [
        "Dataset has missing values marked with \"-1\" for five fields of 'prep_time', 'cook_time', 'flavor_profile', 'state', 'region' which are replaced by \"np.nan\".\n",
        "\n",
        "To better understands the dataset, a set charts are generated exploring and visualizing the datset. Pie chart for vegeterian vs non-vegeterian dishes is shown below. It can be seen that almost 90% of dishes are from a vegeterian diet. The charts are generated including dishes with missing data and proportions of nan values for each field can be seen in charts below."
      ]
    },
    {
      "cell_type": "code",
      "metadata": {
        "id": "EzGPiRXZTWec",
        "outputId": "7109086b-0d53-43e9-897d-b173860fe9ad",
        "colab": {
          "base_uri": "https://localhost:8080/"
        }
      },
      "source": [
        "# Replacing -1 values with nan\n",
        "data[(data == -1) | (data == '-1')] = np.nan\n",
        "print('Columns %s has missing (NA) values.' %list(data.columns[data.isna().any()]))\n",
        "data_print = data.apply(lambda x: x.astype(str).str.title())\n",
        "\n",
        "def plot_pie_chart(dataframe, col_name, plot_title=None):\n",
        "    col_count = dataframe[col_name].value_counts().reset_index()\n",
        "    plt.pie(col_count[col_name], labels=col_count['index'], radius=1.2, autopct='%0.1f%%', explode=[0.1] * len(col_count['index']))\n",
        "    if plot_title is not None:\n",
        "      plt.title(plot_title)\n",
        "    plt.show()"
      ],
      "execution_count": 240,
      "outputs": [
        {
          "output_type": "stream",
          "text": [
            "Columns ['prep_time', 'cook_time', 'flavor_profile', 'state', 'region'] has missing (NA) values.\n"
          ],
          "name": "stdout"
        }
      ]
    },
    {
      "cell_type": "markdown",
      "metadata": {
        "id": "Cmwv7SG-KTsO"
      },
      "source": [
        "To better understands and explore the dataset, a set of charts are generated. Proportions of various regions, courses and flavours are shown in pie charts below. It can be seen that:\n",
        "\n",
        "* Almost 90% of dishes are from a vegetarian diet.\n",
        "* A third of dishes come from west region of India.\n",
        "* Half of available dishes are main courses.\n",
        "* Half of available dishes are spicy\"."
      ]
    },
    {
      "cell_type": "code",
      "metadata": {
        "id": "SVlKQhcJAJzO",
        "outputId": "1dcb4c67-aa85-4fff-b3ed-75eae5f2b690",
        "colab": {
          "base_uri": "https://localhost:8080/",
          "height": 530
        }
      },
      "source": [
        "plot_pie_chart(dataframe = data_print,col_name = 'diet', plot_title = \"Percentage of vegeterian vs non-vegeterian dishes\")\n",
        "plot_pie_chart(data_print,'region', plot_title='Proportions of various regions to which dishes belong to.')"
      ],
      "execution_count": 241,
      "outputs": [
        {
          "output_type": "display_data",
          "data": {
            "image/png": "[encoded data removed]",
            "text/plain": [
              "<Figure size 432x288 with 1 Axes>"
            ]
          },
          "metadata": {
            "tags": []
          }
        },
        {
          "output_type": "display_data",
          "data": {
            "image/png": "[encoded data removed]",
            "text/plain": [
              "<Figure size 432x288 with 1 Axes>"
            ]
          },
          "metadata": {
            "tags": []
          }
        }
      ]
    },
    {
      "cell_type": "code",
      "metadata": {
        "id": "6lD7_TvnLhuN",
        "outputId": "6225f991-9a08-43b1-adeb-e62f02656de8",
        "colab": {
          "base_uri": "https://localhost:8080/",
          "height": 588
        }
      },
      "source": [
        "print('Proportions of various courses.')\n",
        "plot_pie_chart(data_print,'course')\n",
        "print('\\nProportions of various food flavors.')\n",
        "plot_pie_chart(data_print,'flavor_profile')"
      ],
      "execution_count": 242,
      "outputs": [
        {
          "output_type": "stream",
          "text": [
            "Proportions of various courses.\n"
          ],
          "name": "stdout"
        },
        {
          "output_type": "display_data",
          "data": {
            "image/png": "[encoded data removed]",
            "text/plain": [
              "<Figure size 432x288 with 1 Axes>"
            ]
          },
          "metadata": {
            "tags": []
          }
        },
        {
          "output_type": "stream",
          "text": [
            "\n",
            "Proportions of various food flavors.\n"
          ],
          "name": "stdout"
        },
        {
          "output_type": "display_data",
          "data": {
            "image/png": "[encoded data removed]",
            "text/plain": [
              "<Figure size 432x288 with 1 Axes>"
            ]
          },
          "metadata": {
            "tags": []
          }
        }
      ]
    },
    {
      "cell_type": "markdown",
      "metadata": {
        "id": "NoybrjnQKFa_"
      },
      "source": [
        "Total cooking time is defined as prep time + cooking time. The histogram of total cooking time  is shown below."
      ]
    },
    {
      "cell_type": "code",
      "metadata": {
        "id": "jbxDg8VJMLgu",
        "outputId": "c22265bb-1830-4482-9114-fd4c678aebab",
        "colab": {
          "base_uri": "https://localhost:8080/",
          "height": 301
        }
      },
      "source": [
        "plt.hist(data['prep_time'] + data['cook_time'],np.arange(10,150,5))\n",
        "\n",
        "plt.title('Prep + Cook Time')\n",
        "plt.xlabel('Time (minutes)')\n",
        "plt.ylabel('Recipes')\n",
        "plt.show()"
      ],
      "execution_count": 243,
      "outputs": [
        {
          "output_type": "display_data",
          "data": {
            "image/png": "[encoded data removed]",
            "text/plain": [
              "<Figure size 432x288 with 1 Axes>"
            ]
          },
          "metadata": {
            "tags": []
          }
        }
      ]
    },
    {
      "cell_type": "markdown",
      "metadata": {
        "id": "bRCchvZKNMSe"
      },
      "source": [
        "Since fields with missing valus are used for filtering and recommendation methods, the missing values are addressed firstly.Dishes with missing values are not removed. Various methods could be used for replacing the missing values e.g. using means/modes or clustering dishes together. Exploring the data below observations are made regarding missing values:\n",
        "\n",
        "* Fields of low importance have missing values e.g. state, region\n",
        "* Share of missing values in each field are not considerable (max 10%) \n",
        "* The fields with missing values are not primary factors for our fucntions\n",
        "\n",
        "Considering above, in case of numeric fields ('prep_time', 'cook_time') and  categorical fields ('flavor_profile', 'state', 'region') missing values are replaced by means and modes of their fields, respectively. \n",
        "\n",
        "**For presentation purposes, the values of missing values replaced by means/modes are shown followed by an asterick.**"
      ]
    },
    {
      "cell_type": "code",
      "metadata": {
        "id": "xYXsiHYQd176",
        "outputId": "d412e20e-30a0-4cff-cf89-9917f1641146",
        "colab": {
          "base_uri": "https://localhost:8080/",
          "height": 272
        }
      },
      "source": [
        "# Handling nan values\n",
        "data_print = data.copy()\n",
        "# display(data_print.tail())\n",
        "print('Mean of prep and cook time: \\n' + str(data.mean().round()))\n",
        "data_2 = data.fillna(data.mean().round())\n",
        "for column in data_2.columns:\n",
        "    data_2[column].fillna(data[column].mode()[0], inplace=True)\n",
        "\n",
        "# Creating the dataframe for printing purposes. Replaced missing values shown with an asterick \n",
        "data_print = data_print.fillna(data_2.astype(str) + '*')\n",
        "data_print = data_print.apply(lambda x: x.astype(str).str.title())\n",
        "display(data_print.tail())"
      ],
      "execution_count": 244,
      "outputs": [
        {
          "output_type": "stream",
          "text": [
            "Mean of prep and cook time: \n",
            "prep_time    35.0\n",
            "cook_time    39.0\n",
            "dtype: float64\n"
          ],
          "name": "stdout"
        },
        {
          "output_type": "display_data",
          "data": {
            "text/html": [
              "<div>\n",
              "<style scoped>\n",
              "    .dataframe tbody tr th:only-of-type {\n",
              "        vertical-align: middle;\n",
              "    }\n",
              "\n",
              "    .dataframe tbody tr th {\n",
              "        vertical-align: top;\n",
              "    }\n",
              "\n",
              "    .dataframe thead th {\n",
              "        text-align: right;\n",
              "    }\n",
              "</style>\n",
              "<table border=\"1\" class=\"dataframe\">\n",
              "  <thead>\n",
              "    <tr style=\"text-align: right;\">\n",
              "      <th></th>\n",
              "      <th>name</th>\n",
              "      <th>ingredients</th>\n",
              "      <th>diet</th>\n",
              "      <th>prep_time</th>\n",
              "      <th>cook_time</th>\n",
              "      <th>flavor_profile</th>\n",
              "      <th>course</th>\n",
              "      <th>state</th>\n",
              "      <th>region</th>\n",
              "    </tr>\n",
              "  </thead>\n",
              "  <tbody>\n",
              "    <tr>\n",
              "      <th>250</th>\n",
              "      <td>Til Pitha</td>\n",
              "      <td>Glutinous Rice, Black Sesame Seeds, Gur</td>\n",
              "      <td>Vegetarian</td>\n",
              "      <td>5.0</td>\n",
              "      <td>30.0</td>\n",
              "      <td>Sweet</td>\n",
              "      <td>Dessert</td>\n",
              "      <td>Assam</td>\n",
              "      <td>North East</td>\n",
              "    </tr>\n",
              "    <tr>\n",
              "      <th>251</th>\n",
              "      <td>Bebinca</td>\n",
              "      <td>Coconut Milk, Egg Yolks, Clarified Butter, All...</td>\n",
              "      <td>Vegetarian</td>\n",
              "      <td>20.0</td>\n",
              "      <td>60.0</td>\n",
              "      <td>Sweet</td>\n",
              "      <td>Dessert</td>\n",
              "      <td>Goa</td>\n",
              "      <td>West</td>\n",
              "    </tr>\n",
              "    <tr>\n",
              "      <th>252</th>\n",
              "      <td>Shufta</td>\n",
              "      <td>Cottage Cheese, Dry Dates, Dried Rose Petals, ...</td>\n",
              "      <td>Vegetarian</td>\n",
              "      <td>35.0*</td>\n",
              "      <td>39.0*</td>\n",
              "      <td>Sweet</td>\n",
              "      <td>Dessert</td>\n",
              "      <td>Jammu &amp; Kashmir</td>\n",
              "      <td>North</td>\n",
              "    </tr>\n",
              "    <tr>\n",
              "      <th>253</th>\n",
              "      <td>Mawa Bati</td>\n",
              "      <td>Milk Powder, Dry Fruits, Arrowroot Powder, All...</td>\n",
              "      <td>Vegetarian</td>\n",
              "      <td>20.0</td>\n",
              "      <td>45.0</td>\n",
              "      <td>Sweet</td>\n",
              "      <td>Dessert</td>\n",
              "      <td>Madhya Pradesh</td>\n",
              "      <td>Central</td>\n",
              "    </tr>\n",
              "    <tr>\n",
              "      <th>254</th>\n",
              "      <td>Pinaca</td>\n",
              "      <td>Brown Rice, Fennel Seeds, Grated Coconut, Blac...</td>\n",
              "      <td>Vegetarian</td>\n",
              "      <td>35.0*</td>\n",
              "      <td>39.0*</td>\n",
              "      <td>Sweet</td>\n",
              "      <td>Dessert</td>\n",
              "      <td>Goa</td>\n",
              "      <td>West</td>\n",
              "    </tr>\n",
              "  </tbody>\n",
              "</table>\n",
              "</div>"
            ],
            "text/plain": [
              "          name  ...      region\n",
              "250  Til Pitha  ...  North East\n",
              "251    Bebinca  ...        West\n",
              "252     Shufta  ...       North\n",
              "253  Mawa Bati  ...     Central\n",
              "254     Pinaca  ...        West\n",
              "\n",
              "[5 rows x 9 columns]"
            ]
          },
          "metadata": {
            "tags": []
          }
        }
      ]
    },
    {
      "cell_type": "markdown",
      "metadata": {
        "id": "MJNskz9i10sq"
      },
      "source": [
        "##Filter Function\n",
        "\n",
        "This function filters the indian food dataset based on five criterias: ingredients, diet, course, max_prep_time, max_cook_time. At fist all input are checked to be of the right format and within the acceptable values. This process is not 100% error proof but can prevent elementary input errors. Then, if a valid input is passed for each criterion, the dish dataframe is filter based on. The 'ingredients' criteria are can be passed as a string or list of strings. It can be a single string or list/tuple of strings. The dataframe will be filtered for all ingredients in the ingredients list. Parameters are not case sensitive.\n",
        "\n",
        "* param ingredients: The string of one ingredient or list/tuple of strings of multiple ingredients.\n",
        "* param diet: The diet to be 'vegetarian' or 'non vegetarian'\n",
        "* param course: The course for which the dish should be served can be 'dessert', 'main course', 'starter', 'snack'\n",
        "* param max_prep_time: The maximum preparation rime\n",
        "* param max_cook_time: The maximum cooking time\n",
        "\n",
        "---\n",
        "Below examples are all correct application of function: <br>\n",
        "* filter_func (ingredients='oil', max_prep_time=100, max_cook_time=100, diet='non vegetarian') <br>\n",
        "* filter_func(ingredients=['oil', 'rice'], max_prep_time=100, max_cook_time=100, diet='vegetarian', course='snack') <br>\n",
        "* filter_func(ingredients='brown rice')"
      ]
    },
    {
      "cell_type": "code",
      "metadata": {
        "id": "7GGmBTRqoOrS"
      },
      "source": [
        "def filter_func(ingredients=None, diet=None, course=None, max_prep_time=None, max_cook_time=None):\n",
        "    \"\"\"\n",
        "    Filter the indian food dataset based on 4 criteria: ingredients, diet, course, max_prep_time, max_cook_time.\n",
        "    At fist all input are checked to be of the right format and within the acceptable values. This process is not\n",
        "    100% error proof but can prevent elementary input errors. Then, if a valid input is passed for each criteria, the\n",
        "    dish dataframe is filter based on. The 'ingredients' criteria is can be passed as a string or list of strings.\n",
        "    It can be a single string or list/tuple of strings. The dataframe will be filtered for all ingredients in the\n",
        "    passed ingredients list. Below examples are all correct application of function.\n",
        "    filter_func(ingredients='oil', max_prep_time=100, max_cook_time=100, diet='non vegetarian')\n",
        "    filter_func(ingredients=['oil', 'rice'], max_prep_time=100, max_cook_time=100, diet='vegetarian', course='snack')\n",
        "    filter_func(ingredients='brown rice')\n",
        "\n",
        "    :param ingredients: The string of one ingredient or list/tuple of strings of multiple ingredients.\n",
        "    :param diet: The diet to be 'vegetarian' or 'non vegetarian'\n",
        "    :param course: The course for which the dish should be served can be 'dessert', 'main course', 'starter', 'snack'\n",
        "    :param max_prep_time: The maximum preparation rime\n",
        "    :param max_cook_time: The maximum cooking time\n",
        "    \"\"\"\n",
        "    global data_2\n",
        "    data_term = data_2.copy()\n",
        "    data_term['ingredients'] = data_term['ingredients'].apply(lambda x: [w.strip() for w in x.split(',')])\n",
        "\n",
        "    # Filtering based on diet\n",
        "    if diet is not None:\n",
        "        diet = diet.lower()\n",
        "        if diet not in data_2['diet'].unique():\n",
        "            print('Diet input \"%s\" not valid. You may choose from: %s' % (diet, data_2['diet'].unique()))\n",
        "            return\n",
        "        else:\n",
        "            print('Filtering dishes based on diet to be %s.' % diet)\n",
        "            data_term = data_term[data_term['diet'] == diet]\n",
        "\n",
        "    # Filtering based on course\n",
        "    if course is not None:\n",
        "        course = course.lower()\n",
        "        if course not in data_2['course'].unique():\n",
        "            print('Course input \"%s\" not valid. You may choose from: %s' % (course, data_2['course'].unique()))\n",
        "            return\n",
        "        else:\n",
        "            print('Filtering dishes based on course type to be %s.' % course)\n",
        "            data_term = data_term[data_term['course'] == course]\n",
        "\n",
        "    # Filtering based on max prep time\n",
        "    if max_prep_time is not None:\n",
        "        try:\n",
        "            max_prep_time = int(max_prep_time)\n",
        "            print('Filtering dishes with max prep time of %d.' % max_prep_time)\n",
        "            data_term = data_term[(data_term['prep_time'] <= max_prep_time)]\n",
        "        except ValueError:\n",
        "            print('Incorrect input for prep time (%s)' % max_prep_time)\n",
        "            return\n",
        "\n",
        "    # Filtering based on maximum cooking time\n",
        "    if max_cook_time is not None:\n",
        "        try:\n",
        "            max_cook_time = int(max_cook_time)\n",
        "            print('Filtering dishes with max cook time of %d.' % max_cook_time)\n",
        "            data_term = data_term[(data_term['cook_time'] <= max_cook_time)]\n",
        "        except ValueError:\n",
        "            print('Incorrect input for cook time (%s)' % max_cook_time)\n",
        "            return\n",
        "    print('_'*80)\n",
        "\n",
        "    if ingredients is None:\n",
        "        print('There are %d dishes which met above criteria/s.' % len(data_term))\n",
        "        display(data_2.loc[data_term.index].head())\n",
        "        return\n",
        "    if type(ingredients) is str:\n",
        "        if ingredients.strip() == '':\n",
        "            print('There are %d dishes which met above criteria/s.' % len(data_term))\n",
        "            display(data_2.loc[data_term.index].head())\n",
        "            return\n",
        "        ingred_list = [ingredients.lower().strip()]\n",
        "    else:\n",
        "        ingred_list = [x.lower().strip() for x in ingredients]\n",
        "\n",
        "    data_word = data_term.copy()\n",
        "    data_word['ingredients'] = data_word['ingredients'].apply(lambda x: set(sum([s.split(' ') for s in x], [])))\n",
        "\n",
        "    for ing in ingred_list:\n",
        "        if len(data_term) > 0:\n",
        "            data_term = data_term[data_term['ingredients'].apply(lambda r: ing in r)]\n",
        "        if len(data_word) > 0:\n",
        "            data_word = data_word[data_word['ingredients'].apply(lambda r: ing in r)]\n",
        "\n",
        "    print('There are %d dishes with %s as exact ingredient/s.' % (len(data_term), \" and \".join(['\"%s\"' % str(x) for x in ingred_list])))\n",
        "    if len(data_term) > 0:\n",
        "        print('Here is a look at some:')\n",
        "        display(data_print.loc[data_term.index].head())\n",
        "        print('\\n')\n",
        "\n",
        "    print('There are %d dishes with a type/s of %s as ingredient/s.' % (len(data_word), \" and \".join([str(x) for x in ingred_list])))\n",
        "    if len(data_word) > 0:\n",
        "        print('Here is a look at some:')\n",
        "        display(data_print.loc[data_word.index].head())\n",
        "        for ing in ingred_list:\n",
        "            ingred_list = set(sum([x.split(',') for x in list(data_2.loc[data_word.index]['ingredients'])], []))\n",
        "            ingred_list = [x.strip() for x in ingred_list if ing in x.strip()]\n",
        "            print('\\nList of ingredients with \"%s\" in it: %s' % (ing, \", \".join(['\"%s\"' % str(x) for x in ingred_list])))\n",
        "        print(\"More specific?\")"
      ],
      "execution_count": 264,
      "outputs": []
    },
    {
      "cell_type": "code",
      "metadata": {
        "id": "lxWmawA57WwL",
        "outputId": "4abfe4e8-af1b-499d-e9a9-9465bf32015d",
        "colab": {
          "base_uri": "https://localhost:8080/",
          "height": 423
        }
      },
      "source": [
        "filter_func(ingredients='onions', max_cook_time=40)"
      ],
      "execution_count": 269,
      "outputs": [
        {
          "output_type": "stream",
          "text": [
            "Filtering dishes with max cook time of 40.\n",
            "________________________________________________________________________________\n",
            "There are 2 dishes with \"onions\" as exact ingredient/s.\n",
            "Here is a look at some:\n"
          ],
          "name": "stdout"
        },
        {
          "output_type": "display_data",
          "data": {
            "text/html": [
              "<div>\n",
              "<style scoped>\n",
              "    .dataframe tbody tr th:only-of-type {\n",
              "        vertical-align: middle;\n",
              "    }\n",
              "\n",
              "    .dataframe tbody tr th {\n",
              "        vertical-align: top;\n",
              "    }\n",
              "\n",
              "    .dataframe thead th {\n",
              "        text-align: right;\n",
              "    }\n",
              "</style>\n",
              "<table border=\"1\" class=\"dataframe\">\n",
              "  <thead>\n",
              "    <tr style=\"text-align: right;\">\n",
              "      <th></th>\n",
              "      <th>name</th>\n",
              "      <th>ingredients</th>\n",
              "      <th>diet</th>\n",
              "      <th>prep_time</th>\n",
              "      <th>cook_time</th>\n",
              "      <th>flavor_profile</th>\n",
              "      <th>course</th>\n",
              "      <th>state</th>\n",
              "      <th>region</th>\n",
              "    </tr>\n",
              "  </thead>\n",
              "  <tbody>\n",
              "    <tr>\n",
              "      <th>65</th>\n",
              "      <td>Pork Bharta</td>\n",
              "      <td>Boiled Pork, Onions, Chilies, Ginger And Garlic</td>\n",
              "      <td>Non Vegetarian</td>\n",
              "      <td>35.0*</td>\n",
              "      <td>39.0*</td>\n",
              "      <td>Spicy</td>\n",
              "      <td>Main Course</td>\n",
              "      <td>Tripura</td>\n",
              "      <td>North East</td>\n",
              "    </tr>\n",
              "    <tr>\n",
              "      <th>227</th>\n",
              "      <td>Bengena Pitika</td>\n",
              "      <td>Brinjal, Onions, Salt, Sesame Seeds, Coriander</td>\n",
              "      <td>Vegetarian</td>\n",
              "      <td>35.0*</td>\n",
              "      <td>39.0*</td>\n",
              "      <td>Spicy*</td>\n",
              "      <td>Main Course</td>\n",
              "      <td>Assam</td>\n",
              "      <td>North East</td>\n",
              "    </tr>\n",
              "  </tbody>\n",
              "</table>\n",
              "</div>"
            ],
            "text/plain": [
              "               name  ...      region\n",
              "65      Pork Bharta  ...  North East\n",
              "227  Bengena Pitika  ...  North East\n",
              "\n",
              "[2 rows x 9 columns]"
            ]
          },
          "metadata": {
            "tags": []
          }
        },
        {
          "output_type": "stream",
          "text": [
            "\n",
            "\n",
            "There are 3 dishes with a type/s of onions as ingredient/s.\n",
            "Here is a look at some:\n"
          ],
          "name": "stdout"
        },
        {
          "output_type": "display_data",
          "data": {
            "text/html": [
              "<div>\n",
              "<style scoped>\n",
              "    .dataframe tbody tr th:only-of-type {\n",
              "        vertical-align: middle;\n",
              "    }\n",
              "\n",
              "    .dataframe tbody tr th {\n",
              "        vertical-align: top;\n",
              "    }\n",
              "\n",
              "    .dataframe thead th {\n",
              "        text-align: right;\n",
              "    }\n",
              "</style>\n",
              "<table border=\"1\" class=\"dataframe\">\n",
              "  <thead>\n",
              "    <tr style=\"text-align: right;\">\n",
              "      <th></th>\n",
              "      <th>name</th>\n",
              "      <th>ingredients</th>\n",
              "      <th>diet</th>\n",
              "      <th>prep_time</th>\n",
              "      <th>cook_time</th>\n",
              "      <th>flavor_profile</th>\n",
              "      <th>course</th>\n",
              "      <th>state</th>\n",
              "      <th>region</th>\n",
              "    </tr>\n",
              "  </thead>\n",
              "  <tbody>\n",
              "    <tr>\n",
              "      <th>65</th>\n",
              "      <td>Pork Bharta</td>\n",
              "      <td>Boiled Pork, Onions, Chilies, Ginger And Garlic</td>\n",
              "      <td>Non Vegetarian</td>\n",
              "      <td>35.0*</td>\n",
              "      <td>39.0*</td>\n",
              "      <td>Spicy</td>\n",
              "      <td>Main Course</td>\n",
              "      <td>Tripura</td>\n",
              "      <td>North East</td>\n",
              "    </tr>\n",
              "    <tr>\n",
              "      <th>143</th>\n",
              "      <td>Kuzhambu</td>\n",
              "      <td>Pearl Onions, Urad Dal, Drumsticks, Tomato, Cu...</td>\n",
              "      <td>Vegetarian</td>\n",
              "      <td>5.0</td>\n",
              "      <td>30.0</td>\n",
              "      <td>Spicy</td>\n",
              "      <td>Main Course</td>\n",
              "      <td>Tamil Nadu</td>\n",
              "      <td>South</td>\n",
              "    </tr>\n",
              "    <tr>\n",
              "      <th>227</th>\n",
              "      <td>Bengena Pitika</td>\n",
              "      <td>Brinjal, Onions, Salt, Sesame Seeds, Coriander</td>\n",
              "      <td>Vegetarian</td>\n",
              "      <td>35.0*</td>\n",
              "      <td>39.0*</td>\n",
              "      <td>Spicy*</td>\n",
              "      <td>Main Course</td>\n",
              "      <td>Assam</td>\n",
              "      <td>North East</td>\n",
              "    </tr>\n",
              "  </tbody>\n",
              "</table>\n",
              "</div>"
            ],
            "text/plain": [
              "               name  ...      region\n",
              "65      Pork Bharta  ...  North East\n",
              "143        Kuzhambu  ...       South\n",
              "227  Bengena Pitika  ...  North East\n",
              "\n",
              "[3 rows x 9 columns]"
            ]
          },
          "metadata": {
            "tags": []
          }
        },
        {
          "output_type": "stream",
          "text": [
            "\n",
            "List of ingredients with \"onions\" in it: \"pearl onions\", \"onions\"\n",
            "More specific?\n"
          ],
          "name": "stdout"
        }
      ]
    },
    {
      "cell_type": "code",
      "metadata": {
        "id": "YHKNndkWSlZ1",
        "outputId": "c8452672-e14a-4fcc-cda7-e941d703a072",
        "colab": {
          "base_uri": "https://localhost:8080/",
          "height": 272
        }
      },
      "source": [
        "filter_func(max_prep_time=40, diet='vegetarian')"
      ],
      "execution_count": 247,
      "outputs": [
        {
          "output_type": "stream",
          "text": [
            "Filtering dishes based on diet to be vegetarian.\n",
            "Filtering dishes with max prep time of 40.\n",
            "________________________________________________________________________________\n",
            "There are 202 dishes which met above criteria/s.\n"
          ],
          "name": "stdout"
        },
        {
          "output_type": "display_data",
          "data": {
            "text/html": [
              "<div>\n",
              "<style scoped>\n",
              "    .dataframe tbody tr th:only-of-type {\n",
              "        vertical-align: middle;\n",
              "    }\n",
              "\n",
              "    .dataframe tbody tr th {\n",
              "        vertical-align: top;\n",
              "    }\n",
              "\n",
              "    .dataframe thead th {\n",
              "        text-align: right;\n",
              "    }\n",
              "</style>\n",
              "<table border=\"1\" class=\"dataframe\">\n",
              "  <thead>\n",
              "    <tr style=\"text-align: right;\">\n",
              "      <th></th>\n",
              "      <th>name</th>\n",
              "      <th>ingredients</th>\n",
              "      <th>diet</th>\n",
              "      <th>prep_time</th>\n",
              "      <th>cook_time</th>\n",
              "      <th>flavor_profile</th>\n",
              "      <th>course</th>\n",
              "      <th>state</th>\n",
              "      <th>region</th>\n",
              "    </tr>\n",
              "  </thead>\n",
              "  <tbody>\n",
              "    <tr>\n",
              "      <th>2</th>\n",
              "      <td>gajar ka halwa</td>\n",
              "      <td>carrots, milk, sugar, ghee, cashews, raisins</td>\n",
              "      <td>vegetarian</td>\n",
              "      <td>15.0</td>\n",
              "      <td>60.0</td>\n",
              "      <td>sweet</td>\n",
              "      <td>dessert</td>\n",
              "      <td>punjab</td>\n",
              "      <td>north</td>\n",
              "    </tr>\n",
              "    <tr>\n",
              "      <th>3</th>\n",
              "      <td>ghevar</td>\n",
              "      <td>flour, ghee, kewra, milk, clarified butter, su...</td>\n",
              "      <td>vegetarian</td>\n",
              "      <td>15.0</td>\n",
              "      <td>30.0</td>\n",
              "      <td>sweet</td>\n",
              "      <td>dessert</td>\n",
              "      <td>rajasthan</td>\n",
              "      <td>west</td>\n",
              "    </tr>\n",
              "    <tr>\n",
              "      <th>4</th>\n",
              "      <td>gulab jamun</td>\n",
              "      <td>milk powder, plain flour, baking powder, ghee,...</td>\n",
              "      <td>vegetarian</td>\n",
              "      <td>15.0</td>\n",
              "      <td>40.0</td>\n",
              "      <td>sweet</td>\n",
              "      <td>dessert</td>\n",
              "      <td>west bengal</td>\n",
              "      <td>east</td>\n",
              "    </tr>\n",
              "    <tr>\n",
              "      <th>5</th>\n",
              "      <td>imarti</td>\n",
              "      <td>sugar syrup, lentil flour</td>\n",
              "      <td>vegetarian</td>\n",
              "      <td>10.0</td>\n",
              "      <td>50.0</td>\n",
              "      <td>sweet</td>\n",
              "      <td>dessert</td>\n",
              "      <td>west bengal</td>\n",
              "      <td>east</td>\n",
              "    </tr>\n",
              "    <tr>\n",
              "      <th>6</th>\n",
              "      <td>jalebi</td>\n",
              "      <td>maida, corn flour, baking soda, vinegar, curd,...</td>\n",
              "      <td>vegetarian</td>\n",
              "      <td>10.0</td>\n",
              "      <td>50.0</td>\n",
              "      <td>sweet</td>\n",
              "      <td>dessert</td>\n",
              "      <td>uttar pradesh</td>\n",
              "      <td>north</td>\n",
              "    </tr>\n",
              "  </tbody>\n",
              "</table>\n",
              "</div>"
            ],
            "text/plain": [
              "             name  ... region\n",
              "2  gajar ka halwa  ...  north\n",
              "3          ghevar  ...   west\n",
              "4     gulab jamun  ...   east\n",
              "5          imarti  ...   east\n",
              "6          jalebi  ...  north\n",
              "\n",
              "[5 rows x 9 columns]"
            ]
          },
          "metadata": {
            "tags": []
          }
        }
      ]
    },
    {
      "cell_type": "code",
      "metadata": {
        "id": "l9S4fRnQYs3E",
        "outputId": "606e121f-db4b-4f9c-839f-0d5c6a7f05cd",
        "colab": {
          "base_uri": "https://localhost:8080/",
          "height": 298
        }
      },
      "source": [
        "filter_func(ingredients=['oil', 'rice'], diet='vegetarian', course='MAin course')"
      ],
      "execution_count": 248,
      "outputs": [
        {
          "output_type": "stream",
          "text": [
            "Filtering dishes based on diet to be vegetarian.\n",
            "Filtering dishes based on course type to be main course.\n",
            "________________________________________________________________________________\n",
            "There are 0 dishes with \"oil\" and \"rice\" as exact ingredient/s.\n",
            "There are 2 dishes with a type/s of oil and rice as ingredient/s.\n",
            "Here is a look at some:\n"
          ],
          "name": "stdout"
        },
        {
          "output_type": "display_data",
          "data": {
            "text/html": [
              "<div>\n",
              "<style scoped>\n",
              "    .dataframe tbody tr th:only-of-type {\n",
              "        vertical-align: middle;\n",
              "    }\n",
              "\n",
              "    .dataframe tbody tr th {\n",
              "        vertical-align: top;\n",
              "    }\n",
              "\n",
              "    .dataframe thead th {\n",
              "        text-align: right;\n",
              "    }\n",
              "</style>\n",
              "<table border=\"1\" class=\"dataframe\">\n",
              "  <thead>\n",
              "    <tr style=\"text-align: right;\">\n",
              "      <th></th>\n",
              "      <th>name</th>\n",
              "      <th>ingredients</th>\n",
              "      <th>diet</th>\n",
              "      <th>prep_time</th>\n",
              "      <th>cook_time</th>\n",
              "      <th>flavor_profile</th>\n",
              "      <th>course</th>\n",
              "      <th>state</th>\n",
              "      <th>region</th>\n",
              "    </tr>\n",
              "  </thead>\n",
              "  <tbody>\n",
              "    <tr>\n",
              "      <th>142</th>\n",
              "      <td>Kuzhakkattai</td>\n",
              "      <td>Sesame Oil, Raw Rice, Jaggery, Grated Coconut</td>\n",
              "      <td>Vegetarian</td>\n",
              "      <td>10.0</td>\n",
              "      <td>90.0</td>\n",
              "      <td>Spicy</td>\n",
              "      <td>Main Course</td>\n",
              "      <td>Tamil Nadu</td>\n",
              "      <td>South</td>\n",
              "    </tr>\n",
              "    <tr>\n",
              "      <th>231</th>\n",
              "      <td>Brown Rice</td>\n",
              "      <td>Brown Rice, Soy Sauce, Olive Oil</td>\n",
              "      <td>Vegetarian</td>\n",
              "      <td>15.0</td>\n",
              "      <td>25.0</td>\n",
              "      <td>Spicy*</td>\n",
              "      <td>Main Course</td>\n",
              "      <td>Gujarat*</td>\n",
              "      <td>West*</td>\n",
              "    </tr>\n",
              "  </tbody>\n",
              "</table>\n",
              "</div>"
            ],
            "text/plain": [
              "             name  ... region\n",
              "142  Kuzhakkattai  ...  South\n",
              "231    Brown Rice  ...  West*\n",
              "\n",
              "[2 rows x 9 columns]"
            ]
          },
          "metadata": {
            "tags": []
          }
        },
        {
          "output_type": "stream",
          "text": [
            "\n",
            "List of ingredients with \"oil\" in it: \"olive oil\", \"sesame oil\"\n",
            "\n",
            "List of ingredients with \"rice\" in it: \"brown rice\", \"raw rice\"\n",
            "More specific?\n"
          ],
          "name": "stdout"
        }
      ]
    },
    {
      "cell_type": "markdown",
      "metadata": {
        "id": "rcI0I-4KJc5t"
      },
      "source": [
        "## Recommending Similar Dishes\n",
        "The objective of this section is to develop a ML-based application for recommending similar dishes. \n",
        "\n",
        "Firstly, the data is pre-processed. The typos and missing values are already handeled. Following steps are taken for further pre-processing data:\n",
        "\n",
        "1. Ingredient strings are tokenized and converted in list of ingredient terms e.g. \"sugar\" and \"rice flour\"\n",
        "2. The space following, and leading terms are trimmed\n",
        "3. Combination ingredients are hyphenated e.g. brown-rice\n",
        "4. Following stop and frequent terms are removed from list of ingredient terms. \n",
        "  * salt\n",
        "  * pepper\n",
        "  * water\n",
        "  * sweet\n",
        "\n",
        "5. Following ingredient are replaced with a more frequent term but highly similar meaning and application. These terms are encountered while skimming and exploring dataset. \n",
        "  * 'maida' with 'maida-flour'\n",
        "  * 'powdered-sugar' with 'sugar'\n",
        "  * 'whole-egg': 'egg'\n",
        "\n",
        "6. Following sufix/prefix are removed from ingredient terms. But the terms are not removed from list of terms only the sufix/prefix are removed. I believe that ingredients with these sufix/prefix have similar application as the ones without them in term food taste. \n",
        "  * '-and'\n",
        "  * 'frozen-'\n",
        "  * 'canned-'\n",
        "  * '-powder'\n",
        "\n",
        "7. Ingredient terms are stemmed using Porter Stemmer tool from [nltk package](https://www.nltk.org/api/nltk.html)."
      ]
    },
    {
      "cell_type": "code",
      "metadata": {
        "id": "QQ1B0ybH36w2"
      },
      "source": [
        "from nltk.stem import PorterStemmer\n",
        "ps = PorterStemmer()\n",
        "\n",
        "data_term = data_2.copy()\n",
        "# Tokenizing ingredients strings\n",
        "data_term['ingredients'] = data_term['ingredients'].apply(lambda x: [w.strip() for w in x.split(',')])\n",
        "# Hyphenating combination ingredients\n",
        "data_term['ingredients'] = data_term['ingredients'].apply(lambda x: [term.replace(' ', '-') for term in x])\n",
        "\n",
        "# List of stop words to be removed\n",
        "term_remove_list = ['water', 'salt', 'pepper', 'sweet']\n",
        "# Removing stop words and replacing words with typos or same concepts\n",
        "data_term['ingredients'] = data_term['ingredients'].apply(lambda row: [x for x in row if x not in term_remove_list])\n",
        "\n",
        "# Dictionary of terms with typos or similar concept to be replaced\n",
        "term_replace_dic = {'maida': 'maida-flour',\n",
        "                    'powdered-sugar': 'sugar',\n",
        "                    'whole-egg': 'egg'}\n",
        "for i, row in data_term.iterrows():\n",
        "    for ing, ing_correct in term_replace_dic.items():\n",
        "        if ing in row['ingredients']:\n",
        "            row['ingredients'].remove(ing)\n",
        "            row['ingredients'].append(ing_correct)\n",
        "\n",
        "# Dictionary of words to be replaced\n",
        "word_replace_dic = {'-and': '',\n",
        "                    'frozen-': '',\n",
        "                    'canned-': '',\n",
        "                    '-powder': ''}\n",
        "for k, v in word_replace_dic.items():\n",
        "    data_term['ingredients'] = data_term['ingredients'].apply(lambda row: [x.replace(k, v) for x in row])\n",
        "\n",
        "# Stemming the ingredient terms\n",
        "data_term['ingredients'] = data_term['ingredients'].apply(lambda row: [ps.stem(x) for x in row])"
      ],
      "execution_count": 249,
      "outputs": []
    },
    {
      "cell_type": "markdown",
      "metadata": {
        "id": "NHAbTzOx5XXG"
      },
      "source": [
        "To better detect similarities between foods, ingredients are also analyzed \n",
        "on a word level. Meaning ingredient terms are also boken up into list of words. By doing this, we can also capitlize on similarity of various kinds one ingredient e.g. various oils and different kinds of flours. Therefore, similarities between \"oilve-oil\" and \"oil\" or \"all-purpose-flour\" and \"white-flour\" are weighted in. "
      ]
    },
    {
      "cell_type": "code",
      "metadata": {
        "id": "EHRsLUJG5Xpv"
      },
      "source": [
        "data_word = data_term.copy()\n",
        "data_word['ingredients'] = data_word['ingredients'].apply(lambda x: list(sum([s.split('-') for s in x], [])))"
      ],
      "execution_count": 250,
      "outputs": []
    },
    {
      "cell_type": "markdown",
      "metadata": {
        "id": "ElsuoKC_D21D"
      },
      "source": [
        "Set of terms used in dish recepeies are created (bag of terms). Same is done for words (bag of words). Using these sets, the list of recepies' terms and words are converted into a one-hot format. \n",
        "\n",
        "Finally, the additional data such as foods diet type, course type, flavor profile, origin state and region are also used for ranking similarities. Therefore, these fields are also vectorize using [pandas.get_dummies function](https://pandas.pydata.org/pandas-docs/stable/reference/api/pandas.get_dummies.html)."
      ]
    },
    {
      "cell_type": "code",
      "metadata": {
        "id": "HJdJHfPdD2R6"
      },
      "source": [
        "from sklearn.metrics.pairwise import cosine_similarity\n",
        "\n",
        "def vectorize_ingred(food_df):\n",
        "    ingred_set = set(sum(food_df['ingredients'], []))\n",
        "    ingred_one_hot = pd.DataFrame(0, index=food_df.index, columns=ingred_set)\n",
        "    for i, row in food_df.iterrows():\n",
        "        for ing in row['ingredients']:\n",
        "            ingred_one_hot.loc[i, ing] = 1\n",
        "    return ingred_one_hot\n",
        "\n",
        "\n",
        "# Generating the ingredient bag of the TERMS and vectorizing in a one-hot fashion\n",
        "word_one_hot = vectorize_ingred(data_word)\n",
        "term_one_hot = vectorize_ingred(data_term)\n",
        "# Generating the ingredient bag of the WORDS and vectorizing in a one-hot fashion\n",
        "\n",
        "# Vectorizing diet and course fields ina one-hot fashion and creating one-hot array\n",
        "diet_one_hot = pd.get_dummies(data_2.diet, prefix='diet')\n",
        "course_one_hot = pd.get_dummies(data_2.course, prefix='course')\n",
        "flavor_profile_one_hot = pd.get_dummies(data_2.flavor_profile, prefix='flavor_profile')\n",
        "state_one_hot = pd.get_dummies(data_2.state, prefix='state')\n",
        "region_one_hot = pd.get_dummies(data_2.region, prefix='region')\n",
        "misc_one_hot = pd.concat([diet_one_hot, course_one_hot, flavor_profile_one_hot, state_one_hot, region_one_hot], axis=1)"
      ],
      "execution_count": 251,
      "outputs": []
    },
    {
      "cell_type": "markdown",
      "metadata": {
        "id": "yjlsGHnEneqJ"
      },
      "source": [
        "Cosine similarity function is used to measure the similarities between foods ingredient terms, words, and foods additional data. In case of each criteria, a similarity matrix is generated showing the similarities between each pair of foods is as a number from 0 to 1 with \n",
        "* 1 meaning the respective criteria of both foods matching exactly\n",
        "* 0 meaning no similarities between dishes.\n",
        "\n",
        "The similarities matrices are plotted as heat maps below. It can be seen that there are groups of dishes that have high similarities within each other considering ingredient term and word criterias. These groups can be seen as squares of higher similarities. This can be explained due to the fact that desert and main course foods are placed with each other at top and middle of dataset. Also, similarities and differences are better detected using two criterias of ingredient terms and words copmaring to criteria of aditional data."
      ]
    },
    {
      "cell_type": "code",
      "metadata": {
        "id": "LtXHgb6a0sH5"
      },
      "source": [
        "# Similarity matrices based on terms, words and additional data using Cosine-similarity methods\n",
        "term_sim_mat = cosine_similarity(np.array(term_one_hot))\n",
        "term_sim_df = pd.DataFrame(data=term_sim_mat, index=data_term.index, columns=data_term['name'])\n",
        "\n",
        "word_sim_mat = cosine_similarity(np.array(word_one_hot))\n",
        "word_sim_df = pd.DataFrame(data=word_sim_mat, index=data_word.index, columns=data_word['name'])\n",
        "\n",
        "misc_sim_mat = cosine_similarity(np.array(misc_one_hot))\n",
        "misc_sim_df = pd.DataFrame(data=misc_sim_mat, index=data_2.index, columns=data_2['name'])\n"
      ],
      "execution_count": 252,
      "outputs": []
    },
    {
      "cell_type": "code",
      "metadata": {
        "id": "eKXXADkmVEK9",
        "outputId": "b56e6af9-5204-4fd0-9278-1d6d0b43c515",
        "colab": {
          "base_uri": "https://localhost:8080/",
          "height": 1000
        }
      },
      "source": [
        "plt.figure(figsize=(6, 6))\n",
        "ax = sns.heatmap(term_sim_mat)\n",
        "ax.set_title(\"Cosine similarity of foods ingredients terms\")\n",
        "\n",
        "plt.figure(figsize=(6, 6))\n",
        "ax = sns.heatmap(word_sim_mat)\n",
        "ax.set_title(\"Cosine similarity of foods ingredients foods\")\n",
        "\n",
        "plt.figure(figsize=(6, 6))\n",
        "ax = sns.heatmap(misc_sim_mat)\n",
        "ax.set_title(\"Cosine similarity of foods ingredients foods\")"
      ],
      "execution_count": 253,
      "outputs": [
        {
          "output_type": "execute_result",
          "data": {
            "text/plain": [
              "Text(0.5, 1.0, 'Cosine similarity of foods ingredients foods')"
            ]
          },
          "metadata": {
            "tags": []
          },
          "execution_count": 253
        },
        {
          "output_type": "display_data",
          "data": {
            "image/png": "[encoded data removed]",
            "text/plain": [
              "<Figure size 432x432 with 2 Axes>"
            ]
          },
          "metadata": {
            "tags": []
          }
        },
        {
          "output_type": "display_data",
          "data": {
            "image/png": "[encoded data removed]",
            "text/plain": [
              "<Figure size 432x432 with 2 Axes>"
            ]
          },
          "metadata": {
            "tags": []
          }
        },
        {
          "output_type": "display_data",
          "data": {
            "image/png": "[encoded data removed]",
            "text/plain": [
              "<Figure size 432x432 with 2 Axes>"
            ]
          },
          "metadata": {
            "tags": []
          }
        }
      ]
    },
    {
      "cell_type": "markdown",
      "metadata": {
        "id": "NMeTG592c1i0"
      },
      "source": [
        "### Recommendation function body \n",
        "\n",
        "This function recommends a food from the indian food dataset based on similarity to another dish defined as \"dish_name\" parameter. The similarities are measured acording to similarity score which is the weighted sum of cosine similarity of food ingredient terms, food ingredient words, foods additional data (origin). Due to the fact that the food additional data are very much alike, the have been down weighted for measuting similarities and technically they have been used as tie breakers for cases where multiple foods are highly similar with input. The weights are as follow:\n",
        "\n",
        "* Food ingredient terms --> 0.48\n",
        "* food ingredient words --> 0.47\n",
        "* foods additional data --> 0.05\n",
        "\n",
        "These weights are selected based on try and error. I have tuned the model by running the model several times and adjusting the weights to get the best results.  \n",
        "\n",
        "Also, as discussed for filter function, the similar food data frame can be filtered based on 4 criteria of diet type, course, maximum preparation, and cooking time. Parameters are not case sensitive.\n",
        "\n",
        "* param dish_name: The dish name against which similarities of other dishes are measured\n",
        "* param diet: The diet to be 'vegetarian' or 'non vegetarian'\n",
        "* param course: The course for which the dish should be served can be 'dessert', 'main course', 'starter', 'snack'\n",
        "* param max_prep_time: The maximum preparation rime\n",
        "* param max_cook_time: The maximum cooking time\n",
        "\n",
        "---\n",
        "Below examples are all correct application of function: <br>\n",
        "* recommend_similar_dish(dish_name='Bora Sawul', max_prep_time=100, max_cook_time=100, diet='non vegetarian')\n",
        "* recommend_similar_dish(dish_name='Goja', max_prep_time=100, max_cook_time=100, diet='vegetarian', course='snack')\n",
        "* recommend_similar_dish(dish_name='Shukto')"
      ]
    },
    {
      "cell_type": "code",
      "metadata": {
        "id": "6fS_srZcU7_z"
      },
      "source": [
        "term_w = 0.48\n",
        "word_w = 0.47\n",
        "data_w = 0.05\n",
        "\n",
        "def recommend_similar_dish(dish_name, diet=None, max_prep_time=None, max_cook_time=None, course=None):\n",
        "    \"\"\"\n",
        "    Recommend a food from the indian food dataset based on similarity to the dish_name parameter.\n",
        "    The similarities are measured using cosine similarity method based on three criterias of food ingredient terms,\n",
        "    food ingredient words, foods additional data (origin). The foods are them sorted from most similar to least\n",
        "    similar. Similar foods data frame can be filtered based on 4 criteria of diet type, course, maximum preparation\n",
        "    and cooking time.\n",
        "\n",
        "    At fist all input are checked to be of the right format and within the acceptable values. This process is not\n",
        "    100% error proof but can prevent elementary input errors. Below examples are all correct application of function.\n",
        "    recommend_similar_dish(dish_name='Bora Sawul', max_prep_time=100, max_cook_time=100, diet='non vegetarian')\n",
        "    recommend_similar_dish(dish_name='Goja', max_prep_time=100, max_cook_time=100, diet='vegetarian', course='snack')\n",
        "    recommend_similar_dish(dish_name='Shukto')\n",
        "\n",
        "    :param dish_name: The dish name against which similarities of other dishes are measured\n",
        "    :param diet: The diet to be 'vegetarian' or 'non vegetarian'\n",
        "    :param course: The course for which the dish should be served can be 'dessert', 'main course', 'starter', 'snack'\n",
        "    :param max_prep_time: The maximum preparation rime\n",
        "    :param max_cook_time: The maximum cooking time\n",
        "    :return: Sorted dish data frame\n",
        "    \"\"\"\n",
        "    global data_print\n",
        "    global term_sim_df\n",
        "    global word_sim_df\n",
        "    global misc_sim_df\n",
        "    if dish_name is None or str(dish_name).lower() not in set(term_sim_df.columns):\n",
        "        print('Provided dish name \"%s\" is not available in Indian DIsh Dataset. Please try again.' % dish_name)\n",
        "    dish_name = dish_name.lower()\n",
        "    data_sorted = pd.concat([data_print, term_sim_df[dish_name]], axis=1)\n",
        "    data_sorted.rename(columns={dish_name: 'term score'}, inplace=True)\n",
        "\n",
        "    data_sorted = pd.concat([data_sorted, word_sim_df[dish_name]], axis=1)\n",
        "    data_sorted.rename(columns={dish_name: 'word score'}, inplace=True)\n",
        "\n",
        "    data_sorted = pd.concat([data_sorted, misc_sim_df[dish_name]], axis=1)\n",
        "    data_sorted.rename(columns={dish_name: 'misc score'}, inplace=True)\n",
        "\n",
        "    # Generating the total similarity score based on which dish data frame is sorted\n",
        "    data_sorted['similarity score'] = term_w * data_sorted['term score'] + word_w * data_sorted['word score'] + data_w * data_sorted['misc score']\n",
        "    data_sorted.sort_values(by='similarity score', ascending=False, inplace=True)\n",
        "\n",
        "    # Filtering based on diet\n",
        "    if diet is not None:\n",
        "        diet = diet.lower()\n",
        "        if diet not in data_2['diet'].unique():\n",
        "            print('Diet option input \"%s\" not valid. You may choose from: %s' % (diet, data_2['diet'].unique()))\n",
        "            return\n",
        "        else:\n",
        "            print('Filtering similar dishes based on diet type of %s.' % diet)\n",
        "            data_sorted = data_sorted[data_2['diet'] == diet.lower()]\n",
        "\n",
        "    # Filtering based on course\n",
        "    if course is not None:\n",
        "        course = course.lower()\n",
        "        if course not in data_2['course'].unique():\n",
        "            print('Course option input \"%s\" not valid. You may choose from: %s' % (course, data_2['course'].unique()))\n",
        "            return\n",
        "        else:\n",
        "            print('Filtering similar dishes based on course type of %s.' % course)\n",
        "            data_sorted = data_sorted[data_2['course'] == course.lower()]\n",
        "\n",
        "    # Filtering based on maximum preparation time\n",
        "    if max_prep_time is not None:\n",
        "        try:\n",
        "            max_prep_time = int(max_prep_time)\n",
        "            print('Filtering similar dishes with maximum preparation time of %d.' % max_prep_time)\n",
        "            data_sorted = data_sorted[(data_2['prep_time'] <= max_prep_time)]\n",
        "        except ValueError:\n",
        "            print('Incorrect input for prep time (%s)' % max_prep_time)\n",
        "            return\n",
        "\n",
        "    # Filtering based on maximum cooking time\n",
        "    if max_cook_time is not None:\n",
        "        try:\n",
        "            max_cook_time = int(max_cook_time)\n",
        "            print('Filtering similar dishes with maximum cooking time of %d.' % max_cook_time)\n",
        "            data_sorted = data_sorted[(data_2['cook_time'] <= max_cook_time)]\n",
        "        except ValueError:\n",
        "            print('Incorrect input for cook time (%s)' % max_cook_time)\n",
        "            return\n",
        "\n",
        "    print('_' * 80)\n",
        "    if len(data_sorted) == 0:\n",
        "        print('There are no similar dishes under mentioned criteria')\n",
        "    else:\n",
        "        print('Here are similar dishes to \"%s\" arranged from more similar to least similar' % dish_name)\n",
        "        # data_res = pd.concat([data_print.loc[data_sorted.index], data_sorted['similarity score']], axis=1)\n",
        "        display(data_sorted.head())\n",
        "        return data_sorted"
      ],
      "execution_count": 254,
      "outputs": []
    },
    {
      "cell_type": "code",
      "metadata": {
        "id": "BjRX26kppVkx",
        "outputId": "d95cf5a7-7994-48f8-cc28-a370f8a3180e",
        "colab": {
          "base_uri": "https://localhost:8080/",
          "height": 255
        }
      },
      "source": [
        "recommend_similar_dish(dish_name='sohan papdi')\n",
        "print('')"
      ],
      "execution_count": 255,
      "outputs": [
        {
          "output_type": "stream",
          "text": [
            "________________________________________________________________________________\n",
            "Here are similar dishes to \"sohan papdi\" arranged from more similar to least similar\n"
          ],
          "name": "stdout"
        },
        {
          "output_type": "display_data",
          "data": {
            "text/html": [
              "<div>\n",
              "<style scoped>\n",
              "    .dataframe tbody tr th:only-of-type {\n",
              "        vertical-align: middle;\n",
              "    }\n",
              "\n",
              "    .dataframe tbody tr th {\n",
              "        vertical-align: top;\n",
              "    }\n",
              "\n",
              "    .dataframe thead th {\n",
              "        text-align: right;\n",
              "    }\n",
              "</style>\n",
              "<table border=\"1\" class=\"dataframe\">\n",
              "  <thead>\n",
              "    <tr style=\"text-align: right;\">\n",
              "      <th></th>\n",
              "      <th>name</th>\n",
              "      <th>ingredients</th>\n",
              "      <th>diet</th>\n",
              "      <th>prep_time</th>\n",
              "      <th>cook_time</th>\n",
              "      <th>flavor_profile</th>\n",
              "      <th>course</th>\n",
              "      <th>state</th>\n",
              "      <th>region</th>\n",
              "      <th>term score</th>\n",
              "      <th>word score</th>\n",
              "      <th>misc score</th>\n",
              "      <th>similarity score</th>\n",
              "    </tr>\n",
              "  </thead>\n",
              "  <tbody>\n",
              "    <tr>\n",
              "      <th>19</th>\n",
              "      <td>Sohan Papdi</td>\n",
              "      <td>Gram Flour, Ghee, Sugar, Milk, Cardamom</td>\n",
              "      <td>Vegetarian</td>\n",
              "      <td>35.0*</td>\n",
              "      <td>60.0</td>\n",
              "      <td>Sweet</td>\n",
              "      <td>Dessert</td>\n",
              "      <td>Maharashtra</td>\n",
              "      <td>West</td>\n",
              "      <td>1.000000</td>\n",
              "      <td>1.000000</td>\n",
              "      <td>1.0</td>\n",
              "      <td>1.000000</td>\n",
              "    </tr>\n",
              "    <tr>\n",
              "      <th>1</th>\n",
              "      <td>Boondi</td>\n",
              "      <td>Gram Flour, Ghee, Sugar</td>\n",
              "      <td>Vegetarian</td>\n",
              "      <td>80.0</td>\n",
              "      <td>30.0</td>\n",
              "      <td>Sweet</td>\n",
              "      <td>Dessert</td>\n",
              "      <td>Rajasthan</td>\n",
              "      <td>West</td>\n",
              "      <td>0.774597</td>\n",
              "      <td>0.816497</td>\n",
              "      <td>0.8</td>\n",
              "      <td>0.795560</td>\n",
              "    </tr>\n",
              "    <tr>\n",
              "      <th>10</th>\n",
              "      <td>Laddu</td>\n",
              "      <td>Gram Flour, Ghee, Sugar</td>\n",
              "      <td>Vegetarian</td>\n",
              "      <td>10.0</td>\n",
              "      <td>40.0</td>\n",
              "      <td>Sweet</td>\n",
              "      <td>Dessert</td>\n",
              "      <td>Gujarat*</td>\n",
              "      <td>West*</td>\n",
              "      <td>0.774597</td>\n",
              "      <td>0.816497</td>\n",
              "      <td>0.8</td>\n",
              "      <td>0.795560</td>\n",
              "    </tr>\n",
              "    <tr>\n",
              "      <th>7</th>\n",
              "      <td>Kaju Katli</td>\n",
              "      <td>Cashews, Ghee, Cardamom, Sugar</td>\n",
              "      <td>Vegetarian</td>\n",
              "      <td>10.0</td>\n",
              "      <td>20.0</td>\n",
              "      <td>Sweet</td>\n",
              "      <td>Dessert</td>\n",
              "      <td>Gujarat*</td>\n",
              "      <td>West*</td>\n",
              "      <td>0.670820</td>\n",
              "      <td>0.612372</td>\n",
              "      <td>0.8</td>\n",
              "      <td>0.649809</td>\n",
              "    </tr>\n",
              "    <tr>\n",
              "      <th>66</th>\n",
              "      <td>Chak Hao Kheer</td>\n",
              "      <td>Rice, Milk, Sugar, Cardamom</td>\n",
              "      <td>Vegetarian</td>\n",
              "      <td>240.0</td>\n",
              "      <td>45.0</td>\n",
              "      <td>Sweet</td>\n",
              "      <td>Dessert</td>\n",
              "      <td>Manipur</td>\n",
              "      <td>North East</td>\n",
              "      <td>0.670820</td>\n",
              "      <td>0.612372</td>\n",
              "      <td>0.6</td>\n",
              "      <td>0.639809</td>\n",
              "    </tr>\n",
              "  </tbody>\n",
              "</table>\n",
              "</div>"
            ],
            "text/plain": [
              "              name  ... similarity score\n",
              "19     Sohan Papdi  ...         1.000000\n",
              "1           Boondi  ...         0.795560\n",
              "10           Laddu  ...         0.795560\n",
              "7       Kaju Katli  ...         0.649809\n",
              "66  Chak Hao Kheer  ...         0.639809\n",
              "\n",
              "[5 rows x 13 columns]"
            ]
          },
          "metadata": {
            "tags": []
          }
        },
        {
          "output_type": "stream",
          "text": [
            "\n"
          ],
          "name": "stdout"
        }
      ]
    },
    {
      "cell_type": "code",
      "metadata": {
        "id": "tQd8NIWMpZZa",
        "outputId": "45cf939f-0008-40ee-c23f-af1dd224027c",
        "colab": {
          "base_uri": "https://localhost:8080/",
          "height": 255
        }
      },
      "source": [
        "recommend_similar_dish(dish_name='Kaju Katli')\n",
        "print('')"
      ],
      "execution_count": 256,
      "outputs": [
        {
          "output_type": "stream",
          "text": [
            "________________________________________________________________________________\n",
            "Here are similar dishes to \"kaju katli\" arranged from more similar to least similar\n"
          ],
          "name": "stdout"
        },
        {
          "output_type": "display_data",
          "data": {
            "text/html": [
              "<div>\n",
              "<style scoped>\n",
              "    .dataframe tbody tr th:only-of-type {\n",
              "        vertical-align: middle;\n",
              "    }\n",
              "\n",
              "    .dataframe tbody tr th {\n",
              "        vertical-align: top;\n",
              "    }\n",
              "\n",
              "    .dataframe thead th {\n",
              "        text-align: right;\n",
              "    }\n",
              "</style>\n",
              "<table border=\"1\" class=\"dataframe\">\n",
              "  <thead>\n",
              "    <tr style=\"text-align: right;\">\n",
              "      <th></th>\n",
              "      <th>name</th>\n",
              "      <th>ingredients</th>\n",
              "      <th>diet</th>\n",
              "      <th>prep_time</th>\n",
              "      <th>cook_time</th>\n",
              "      <th>flavor_profile</th>\n",
              "      <th>course</th>\n",
              "      <th>state</th>\n",
              "      <th>region</th>\n",
              "      <th>term score</th>\n",
              "      <th>word score</th>\n",
              "      <th>misc score</th>\n",
              "      <th>similarity score</th>\n",
              "    </tr>\n",
              "  </thead>\n",
              "  <tbody>\n",
              "    <tr>\n",
              "      <th>7</th>\n",
              "      <td>Kaju Katli</td>\n",
              "      <td>Cashews, Ghee, Cardamom, Sugar</td>\n",
              "      <td>Vegetarian</td>\n",
              "      <td>10.0</td>\n",
              "      <td>20.0</td>\n",
              "      <td>Sweet</td>\n",
              "      <td>Dessert</td>\n",
              "      <td>Gujarat*</td>\n",
              "      <td>West*</td>\n",
              "      <td>1.000000</td>\n",
              "      <td>1.000000</td>\n",
              "      <td>1.0</td>\n",
              "      <td>1.000000</td>\n",
              "    </tr>\n",
              "    <tr>\n",
              "      <th>19</th>\n",
              "      <td>Sohan Papdi</td>\n",
              "      <td>Gram Flour, Ghee, Sugar, Milk, Cardamom</td>\n",
              "      <td>Vegetarian</td>\n",
              "      <td>35.0*</td>\n",
              "      <td>60.0</td>\n",
              "      <td>Sweet</td>\n",
              "      <td>Dessert</td>\n",
              "      <td>Maharashtra</td>\n",
              "      <td>West</td>\n",
              "      <td>0.670820</td>\n",
              "      <td>0.612372</td>\n",
              "      <td>0.8</td>\n",
              "      <td>0.649809</td>\n",
              "    </tr>\n",
              "    <tr>\n",
              "      <th>2</th>\n",
              "      <td>Gajar Ka Halwa</td>\n",
              "      <td>Carrots, Milk, Sugar, Ghee, Cashews, Raisins</td>\n",
              "      <td>Vegetarian</td>\n",
              "      <td>15.0</td>\n",
              "      <td>60.0</td>\n",
              "      <td>Sweet</td>\n",
              "      <td>Dessert</td>\n",
              "      <td>Punjab</td>\n",
              "      <td>North</td>\n",
              "      <td>0.612372</td>\n",
              "      <td>0.612372</td>\n",
              "      <td>0.6</td>\n",
              "      <td>0.611754</td>\n",
              "    </tr>\n",
              "    <tr>\n",
              "      <th>25</th>\n",
              "      <td>Ledikeni</td>\n",
              "      <td>Chhena, Sugar, Ghee</td>\n",
              "      <td>Vegetarian</td>\n",
              "      <td>45.0</td>\n",
              "      <td>45.0</td>\n",
              "      <td>Sweet</td>\n",
              "      <td>Dessert</td>\n",
              "      <td>West Bengal</td>\n",
              "      <td>East</td>\n",
              "      <td>0.577350</td>\n",
              "      <td>0.577350</td>\n",
              "      <td>0.6</td>\n",
              "      <td>0.578483</td>\n",
              "    </tr>\n",
              "    <tr>\n",
              "      <th>20</th>\n",
              "      <td>Chhena Jalebi</td>\n",
              "      <td>Chhena, Sugar, Ghee</td>\n",
              "      <td>Vegetarian</td>\n",
              "      <td>10.0</td>\n",
              "      <td>50.0</td>\n",
              "      <td>Sweet</td>\n",
              "      <td>Dessert</td>\n",
              "      <td>Odisha</td>\n",
              "      <td>East</td>\n",
              "      <td>0.577350</td>\n",
              "      <td>0.577350</td>\n",
              "      <td>0.6</td>\n",
              "      <td>0.578483</td>\n",
              "    </tr>\n",
              "  </tbody>\n",
              "</table>\n",
              "</div>"
            ],
            "text/plain": [
              "              name  ... similarity score\n",
              "7       Kaju Katli  ...         1.000000\n",
              "19     Sohan Papdi  ...         0.649809\n",
              "2   Gajar Ka Halwa  ...         0.611754\n",
              "25        Ledikeni  ...         0.578483\n",
              "20   Chhena Jalebi  ...         0.578483\n",
              "\n",
              "[5 rows x 13 columns]"
            ]
          },
          "metadata": {
            "tags": []
          }
        },
        {
          "output_type": "stream",
          "text": [
            "\n"
          ],
          "name": "stdout"
        }
      ]
    },
    {
      "cell_type": "markdown",
      "metadata": {
        "id": "yOE1ZcznuVDq"
      },
      "source": [
        "## Recommendation System for Gluten Free Dishes\n",
        "To develop a recommendation system for Gluten-free dishes, same methodology as previous recommendation is used with a difference that \n",
        "* Firstly, all non-Gluten-free ingredients are removed from ingredient list of each dish.\n",
        "* Using the new recepies and following methodology from previous section, the simillarities between foods are calculated. \n",
        "* Original dataset is ordered according to calculated similarity scores.\n",
        "* The foods with non-Gluten-ingredients are removed from sorted dataset and is shown. \n",
        "\n",
        "By following above steps, \n",
        "1. Similarities are analysed only considering the Gluten-free ingredients.\n",
        "2. Original dataset with untouched recepies are sorted based on Gluten-free similarity scores.\n",
        "3. **Non-Gluten-free foods are not suggested but can be used for recommending. Meaning, the user can find the Gluten-free food most similar to a Non-Gluten-free food.**\n",
        "\n",
        "Since it is already explained, the methodology for finding similarity scores is not further explained. A list of ingredients with Gluten is obtained from  [WebMD](https://www.webmd.com/diet/features/hidden-sources-of-gluten#1). Any food containing following ingredients is removed from database."
      ]
    },
    {
      "cell_type": "code",
      "metadata": {
        "id": "SOPBCydIpmOg"
      },
      "source": [
        "data_term_gf = data_2.copy()\n",
        "gluten_ing = ['wheat', 'gram-flour', 'barley', 'yeast', 'bulgur', 'durum', 'kamut', 'malt', 'matzo', 'oat', 'rye', 'semolina', 'gram flour']\n",
        "indexes_to_drop = []\n",
        "for i, row in data_term_gf.iterrows():\n",
        "    for g_ing in gluten_ing:\n",
        "        if g_ing in row['ingredients']:\n",
        "            indexes_to_drop.append(i)\n",
        "            break"
      ],
      "execution_count": 257,
      "outputs": []
    },
    {
      "cell_type": "code",
      "metadata": {
        "id": "u1phOTKFYQLk"
      },
      "source": [
        "data_term_gf['ingredients'] = data_term_gf['ingredients'].apply(lambda x: [w.strip() for w in x.split(',')])\n",
        "data_term_gf['ingredients'] = data_term_gf['ingredients'].apply(lambda x: [term.replace(' ', '-') for term in x])\n",
        "for g_ing in gluten_ing:\n",
        "    data_term_gf['ingredients'] = data_term_gf['ingredients'].apply(lambda row: [x for x in row if g_ing not in x])\n",
        "\n",
        "term_remove_list = ['water', 'salt', 'pepper', 'sweet']\n",
        "data_term_gf['ingredients'] = data_term_gf['ingredients'].apply(lambda row: [x for x in row if x not in term_remove_list])\n",
        "\n",
        "term_replace_dic = {'maida': 'maida-flour', 'powdered-sugar': 'sugar', 'whole-egg': 'egg'}\n",
        "for i, row in data_term_gf.iterrows():\n",
        "    for ing, ing_correct in term_replace_dic.items():\n",
        "        if ing in row['ingredients']:\n",
        "            row['ingredients'].remove(ing)\n",
        "            row['ingredients'].append(ing_correct)\n",
        "\n",
        "word_replace_dic = {'-and': '', 'frozen-': '', 'canned-': '', '-powder': ''}\n",
        "for k, v in word_replace_dic.items():\n",
        "    data_term_gf['ingredients'] = data_term_gf['ingredients'].apply(lambda row: [x.replace(k, v) for x in row])\n",
        "\n",
        "# Stemming the ingredient terms\n",
        "data_term_gf['ingredients'] = data_term_gf['ingredients'].apply(lambda row: [ps.stem(x) for x in row])\n",
        "\n",
        "data_word_gf = data_term_gf.copy()\n",
        "data_word_gf['ingredients'] = data_word_gf['ingredients'].apply(lambda x: list(sum([s.split('-') for s in x], [])))\n",
        "\n",
        "# Generating the ingredient bag of the TERMS and WORDS vectorizing in a one-hot fashion\n",
        "term_one_hot_gf = vectorize_ingred(data_term_gf)\n",
        "word_one_hot_gf = vectorize_ingred(data_word_gf)\n",
        "\n",
        "# Similarity matrices based on terms, words and additional data using Cosine-similarity methods\n",
        "term_sim_mat_gf = cosine_similarity(np.array(term_one_hot_gf))\n",
        "term_sim_df_gf = pd.DataFrame(data=term_sim_mat_gf, index=data_term_gf.index, columns=data_term_gf['name'])\n",
        "\n",
        "word_sim_mat_gf = cosine_similarity(np.array(word_one_hot_gf))\n",
        "word_sim_df_gf = pd.DataFrame(data=word_sim_mat_gf, index=data_word_gf.index, columns=data_word_gf['name'])\n",
        "\n",
        "misc_sim_df_gf = misc_sim_df.copy()"
      ],
      "execution_count": 258,
      "outputs": []
    },
    {
      "cell_type": "code",
      "metadata": {
        "id": "tpt3UdT08Q2H"
      },
      "source": [
        "term_w_gf = 0.48\n",
        "word_w_gf = 0.47\n",
        "data_w_gf = 0.05\n",
        "\n",
        "def recommend_similar_dish_gluten_free(dish_name, diet=None, max_prep_time=None, max_cook_time=None, course=None):\n",
        "    \"\"\"\n",
        "    Recommend a Gluten-free food from the indian food dataset based on similarity to the dish_name parameter.\n",
        "    The similarities are measured using cosine similarity method based on three criterias of food ingredient terms,\n",
        "    food ingredient words, foods additional data (origin). The foods are them sorted from most similar to least\n",
        "    similar. Similar foods data frame can be filtered based on 4 criteria of diet type, course, maximum preparation\n",
        "    and cooking time.\n",
        "\n",
        "    At fist all input are checked to be of the right format and within the acceptable values. This process is not\n",
        "    100% error proof but can prevent elementary input errors. Below examples are all correct application of function.\n",
        "    recommend_similar_dish(dish_name='Bora Sawul', max_prep_time=100, max_cook_time=100, diet='non vegetarian')\n",
        "    recommend_similar_dish(dish_name='Goja', max_prep_time=100, max_cook_time=100, diet='vegetarian', course='snack')\n",
        "    recommend_similar_dish(dish_name='Shukto')\n",
        "\n",
        "    :param dish_name: The dish name against which similarities of other dishes are measured\n",
        "    :param diet: The diet to be 'vegetarian' or 'non vegetarian'\n",
        "    :param course: The course for which the dish should be served can be 'dessert', 'main course', 'starter', 'snack'\n",
        "    :param max_prep_time: The maximum preparation rime\n",
        "    :param max_cook_time: The maximum cooking time\n",
        "    :return: Sorted dish data frame\n",
        "    \"\"\"\n",
        "    global data_print\n",
        "    global term_sim_df_gf\n",
        "    global word_sim_df_gf\n",
        "    global misc_sim_df_gf\n",
        "    if dish_name is None or str(dish_name).lower() not in set(term_sim_df_gf.columns):\n",
        "        print('Provided dish name \"%s\" is not available in Indian Dish Dataset. Please try again.' % dish_name)\n",
        "    dish_name = dish_name.lower()\n",
        "    data_sorted = pd.concat([data_print, term_sim_df_gf[dish_name]], axis=1)\n",
        "    data_sorted.rename(columns={dish_name: 'term score'}, inplace=True)\n",
        "\n",
        "    data_sorted = pd.concat([data_sorted, word_sim_df_gf[dish_name]], axis=1)\n",
        "    data_sorted.rename(columns={dish_name: 'word score'}, inplace=True)\n",
        "\n",
        "    data_sorted = pd.concat([data_sorted, misc_sim_df_gf[dish_name]], axis=1)\n",
        "    data_sorted.rename(columns={dish_name: 'misc score'}, inplace=True)\n",
        "\n",
        "    # Generating the total similarity score based on which dish data frame is sorted\n",
        "    data_sorted['similarity score'] = term_w_gf * data_sorted['term score'] + word_w_gf * data_sorted[\n",
        "        'word score'] + data_w_gf * data_sorted['misc score']\n",
        "    data_sorted.sort_values(by='similarity score', ascending=False, inplace=True)\n",
        "\n",
        "    # Filtering based on diet\n",
        "    if diet is not None:\n",
        "        if diet.lower() not in data_term_gf['diet'].unique():\n",
        "            print('Diet option input \"%s\" not valid. You may choose from: %s' % (diet, data_2_gf['diet'].unique()))\n",
        "            return\n",
        "        else:\n",
        "            print('Filtering similar dishes based on diet type of %s.' % diet)\n",
        "            data_sorted = data_sorted[data_term_gf['diet'] == diet.lower()]\n",
        "\n",
        "    # Filtering based on course\n",
        "    if course is not None:\n",
        "        if course.lower() not in data_term_gf['course'].unique():\n",
        "            print(\n",
        "                'Course option input \"%s\" not valid. You may choose from: %s' % (course, data_2_gf['course'].unique()))\n",
        "            return\n",
        "        else:\n",
        "            print('Filtering similar dishes based on course type of %s.' % course)\n",
        "            data_sorted = data_sorted[data_term_gf['course'] == course.lower()]\n",
        "\n",
        "    # Filtering based on maximum preparation time\n",
        "    if max_prep_time is not None:\n",
        "        try:\n",
        "            max_prep_time = int(max_prep_time)\n",
        "            print('Filtering similar dishes with maximum preparation time of %d.' % max_prep_time)\n",
        "            data_sorted = data_sorted[(data_term_gf['prep_time'] <= max_prep_time)]\n",
        "        except ValueError:\n",
        "            print('Incorrect input for prep time (%s)' % max_prep_time)\n",
        "            return\n",
        "\n",
        "    # Filtering based on maximum cooking time\n",
        "    if max_cook_time is not None:\n",
        "        try:\n",
        "            max_cook_time = int(max_cook_time)\n",
        "            print('Filtering similar dishes with maximum cooking time of %d.' % max_cook_time)\n",
        "            data_sorted = data_sorted[(data_term_gf['cook_time'] <= max_cook_time)]\n",
        "        except ValueError:\n",
        "            print('Incorrect input for cook time (%s)' % max_cook_time)\n",
        "            return\n",
        "\n",
        "    print('_' * 80)\n",
        "    if len(data_sorted) == 0:\n",
        "        print('There are no similar dishes under mentioned criteria')\n",
        "    else:\n",
        "        data_sorted.drop(indexes_to_drop, inplace=True)\n",
        "        print('Here are similar dishes to \"%s\" arranged from more similar to least similar' % dish_name)\n",
        "        # data_res = pd.concat([data_print.loc[data_sorted.index], data_sorted['similarity score']], axis=1)\n",
        "        display(data_sorted.head())\n",
        "        return data_sorted"
      ],
      "execution_count": 259,
      "outputs": []
    },
    {
      "cell_type": "code",
      "metadata": {
        "id": "_8u4aSk16K83",
        "outputId": "4530773e-025c-472c-b0f3-32a0a47f67da",
        "colab": {
          "base_uri": "https://localhost:8080/",
          "height": 544
        }
      },
      "source": [
        "print('Regular recommendation')\n",
        "recommend_similar_dish(dish_name='Kaju Katli')\n",
        "print('\\n' + '-' * 90)\n",
        "print('Gluten-free recommendation')\n",
        "recommend_similar_dish_gluten_free(dish_name='Kaju Katli')\n",
        "print('')"
      ],
      "execution_count": 260,
      "outputs": [
        {
          "output_type": "stream",
          "text": [
            "Regular recommendation\n",
            "________________________________________________________________________________\n",
            "Here are similar dishes to \"kaju katli\" arranged from more similar to least similar\n"
          ],
          "name": "stdout"
        },
        {
          "output_type": "display_data",
          "data": {
            "text/html": [
              "<div>\n",
              "<style scoped>\n",
              "    .dataframe tbody tr th:only-of-type {\n",
              "        vertical-align: middle;\n",
              "    }\n",
              "\n",
              "    .dataframe tbody tr th {\n",
              "        vertical-align: top;\n",
              "    }\n",
              "\n",
              "    .dataframe thead th {\n",
              "        text-align: right;\n",
              "    }\n",
              "</style>\n",
              "<table border=\"1\" class=\"dataframe\">\n",
              "  <thead>\n",
              "    <tr style=\"text-align: right;\">\n",
              "      <th></th>\n",
              "      <th>name</th>\n",
              "      <th>ingredients</th>\n",
              "      <th>diet</th>\n",
              "      <th>prep_time</th>\n",
              "      <th>cook_time</th>\n",
              "      <th>flavor_profile</th>\n",
              "      <th>course</th>\n",
              "      <th>state</th>\n",
              "      <th>region</th>\n",
              "      <th>term score</th>\n",
              "      <th>word score</th>\n",
              "      <th>misc score</th>\n",
              "      <th>similarity score</th>\n",
              "    </tr>\n",
              "  </thead>\n",
              "  <tbody>\n",
              "    <tr>\n",
              "      <th>7</th>\n",
              "      <td>Kaju Katli</td>\n",
              "      <td>Cashews, Ghee, Cardamom, Sugar</td>\n",
              "      <td>Vegetarian</td>\n",
              "      <td>10.0</td>\n",
              "      <td>20.0</td>\n",
              "      <td>Sweet</td>\n",
              "      <td>Dessert</td>\n",
              "      <td>Gujarat*</td>\n",
              "      <td>West*</td>\n",
              "      <td>1.000000</td>\n",
              "      <td>1.000000</td>\n",
              "      <td>1.0</td>\n",
              "      <td>1.000000</td>\n",
              "    </tr>\n",
              "    <tr>\n",
              "      <th>19</th>\n",
              "      <td>Sohan Papdi</td>\n",
              "      <td>Gram Flour, Ghee, Sugar, Milk, Cardamom</td>\n",
              "      <td>Vegetarian</td>\n",
              "      <td>35.0*</td>\n",
              "      <td>60.0</td>\n",
              "      <td>Sweet</td>\n",
              "      <td>Dessert</td>\n",
              "      <td>Maharashtra</td>\n",
              "      <td>West</td>\n",
              "      <td>0.670820</td>\n",
              "      <td>0.612372</td>\n",
              "      <td>0.8</td>\n",
              "      <td>0.649809</td>\n",
              "    </tr>\n",
              "    <tr>\n",
              "      <th>2</th>\n",
              "      <td>Gajar Ka Halwa</td>\n",
              "      <td>Carrots, Milk, Sugar, Ghee, Cashews, Raisins</td>\n",
              "      <td>Vegetarian</td>\n",
              "      <td>15.0</td>\n",
              "      <td>60.0</td>\n",
              "      <td>Sweet</td>\n",
              "      <td>Dessert</td>\n",
              "      <td>Punjab</td>\n",
              "      <td>North</td>\n",
              "      <td>0.612372</td>\n",
              "      <td>0.612372</td>\n",
              "      <td>0.6</td>\n",
              "      <td>0.611754</td>\n",
              "    </tr>\n",
              "    <tr>\n",
              "      <th>25</th>\n",
              "      <td>Ledikeni</td>\n",
              "      <td>Chhena, Sugar, Ghee</td>\n",
              "      <td>Vegetarian</td>\n",
              "      <td>45.0</td>\n",
              "      <td>45.0</td>\n",
              "      <td>Sweet</td>\n",
              "      <td>Dessert</td>\n",
              "      <td>West Bengal</td>\n",
              "      <td>East</td>\n",
              "      <td>0.577350</td>\n",
              "      <td>0.577350</td>\n",
              "      <td>0.6</td>\n",
              "      <td>0.578483</td>\n",
              "    </tr>\n",
              "    <tr>\n",
              "      <th>20</th>\n",
              "      <td>Chhena Jalebi</td>\n",
              "      <td>Chhena, Sugar, Ghee</td>\n",
              "      <td>Vegetarian</td>\n",
              "      <td>10.0</td>\n",
              "      <td>50.0</td>\n",
              "      <td>Sweet</td>\n",
              "      <td>Dessert</td>\n",
              "      <td>Odisha</td>\n",
              "      <td>East</td>\n",
              "      <td>0.577350</td>\n",
              "      <td>0.577350</td>\n",
              "      <td>0.6</td>\n",
              "      <td>0.578483</td>\n",
              "    </tr>\n",
              "  </tbody>\n",
              "</table>\n",
              "</div>"
            ],
            "text/plain": [
              "              name  ... similarity score\n",
              "7       Kaju Katli  ...         1.000000\n",
              "19     Sohan Papdi  ...         0.649809\n",
              "2   Gajar Ka Halwa  ...         0.611754\n",
              "25        Ledikeni  ...         0.578483\n",
              "20   Chhena Jalebi  ...         0.578483\n",
              "\n",
              "[5 rows x 13 columns]"
            ]
          },
          "metadata": {
            "tags": []
          }
        },
        {
          "output_type": "stream",
          "text": [
            "\n",
            "------------------------------------------------------------------------------------------\n",
            "Gluten-free recommendation\n",
            "________________________________________________________________________________\n",
            "Here are similar dishes to \"kaju katli\" arranged from more similar to least similar\n"
          ],
          "name": "stdout"
        },
        {
          "output_type": "display_data",
          "data": {
            "text/html": [
              "<div>\n",
              "<style scoped>\n",
              "    .dataframe tbody tr th:only-of-type {\n",
              "        vertical-align: middle;\n",
              "    }\n",
              "\n",
              "    .dataframe tbody tr th {\n",
              "        vertical-align: top;\n",
              "    }\n",
              "\n",
              "    .dataframe thead th {\n",
              "        text-align: right;\n",
              "    }\n",
              "</style>\n",
              "<table border=\"1\" class=\"dataframe\">\n",
              "  <thead>\n",
              "    <tr style=\"text-align: right;\">\n",
              "      <th></th>\n",
              "      <th>name</th>\n",
              "      <th>ingredients</th>\n",
              "      <th>diet</th>\n",
              "      <th>prep_time</th>\n",
              "      <th>cook_time</th>\n",
              "      <th>flavor_profile</th>\n",
              "      <th>course</th>\n",
              "      <th>state</th>\n",
              "      <th>region</th>\n",
              "      <th>term score</th>\n",
              "      <th>word score</th>\n",
              "      <th>misc score</th>\n",
              "      <th>similarity score</th>\n",
              "    </tr>\n",
              "  </thead>\n",
              "  <tbody>\n",
              "    <tr>\n",
              "      <th>7</th>\n",
              "      <td>Kaju Katli</td>\n",
              "      <td>Cashews, Ghee, Cardamom, Sugar</td>\n",
              "      <td>Vegetarian</td>\n",
              "      <td>10.0</td>\n",
              "      <td>20.0</td>\n",
              "      <td>Sweet</td>\n",
              "      <td>Dessert</td>\n",
              "      <td>Gujarat*</td>\n",
              "      <td>West*</td>\n",
              "      <td>1.000000</td>\n",
              "      <td>1.000000</td>\n",
              "      <td>1.0</td>\n",
              "      <td>1.000000</td>\n",
              "    </tr>\n",
              "    <tr>\n",
              "      <th>2</th>\n",
              "      <td>Gajar Ka Halwa</td>\n",
              "      <td>Carrots, Milk, Sugar, Ghee, Cashews, Raisins</td>\n",
              "      <td>Vegetarian</td>\n",
              "      <td>15.0</td>\n",
              "      <td>60.0</td>\n",
              "      <td>Sweet</td>\n",
              "      <td>Dessert</td>\n",
              "      <td>Punjab</td>\n",
              "      <td>North</td>\n",
              "      <td>0.612372</td>\n",
              "      <td>0.612372</td>\n",
              "      <td>0.6</td>\n",
              "      <td>0.611754</td>\n",
              "    </tr>\n",
              "    <tr>\n",
              "      <th>20</th>\n",
              "      <td>Chhena Jalebi</td>\n",
              "      <td>Chhena, Sugar, Ghee</td>\n",
              "      <td>Vegetarian</td>\n",
              "      <td>10.0</td>\n",
              "      <td>50.0</td>\n",
              "      <td>Sweet</td>\n",
              "      <td>Dessert</td>\n",
              "      <td>Odisha</td>\n",
              "      <td>East</td>\n",
              "      <td>0.577350</td>\n",
              "      <td>0.577350</td>\n",
              "      <td>0.6</td>\n",
              "      <td>0.578483</td>\n",
              "    </tr>\n",
              "    <tr>\n",
              "      <th>25</th>\n",
              "      <td>Ledikeni</td>\n",
              "      <td>Chhena, Sugar, Ghee</td>\n",
              "      <td>Vegetarian</td>\n",
              "      <td>45.0</td>\n",
              "      <td>45.0</td>\n",
              "      <td>Sweet</td>\n",
              "      <td>Dessert</td>\n",
              "      <td>West Bengal</td>\n",
              "      <td>East</td>\n",
              "      <td>0.577350</td>\n",
              "      <td>0.577350</td>\n",
              "      <td>0.6</td>\n",
              "      <td>0.578483</td>\n",
              "    </tr>\n",
              "    <tr>\n",
              "      <th>34</th>\n",
              "      <td>Rasgulla</td>\n",
              "      <td>Chhena, Sugar, Cardamom</td>\n",
              "      <td>Vegetarian</td>\n",
              "      <td>10.0</td>\n",
              "      <td>90.0</td>\n",
              "      <td>Sweet</td>\n",
              "      <td>Dessert</td>\n",
              "      <td>West Bengal</td>\n",
              "      <td>East</td>\n",
              "      <td>0.577350</td>\n",
              "      <td>0.577350</td>\n",
              "      <td>0.6</td>\n",
              "      <td>0.578483</td>\n",
              "    </tr>\n",
              "  </tbody>\n",
              "</table>\n",
              "</div>"
            ],
            "text/plain": [
              "              name  ... similarity score\n",
              "7       Kaju Katli  ...         1.000000\n",
              "2   Gajar Ka Halwa  ...         0.611754\n",
              "20   Chhena Jalebi  ...         0.578483\n",
              "25        Ledikeni  ...         0.578483\n",
              "34        Rasgulla  ...         0.578483\n",
              "\n",
              "[5 rows x 13 columns]"
            ]
          },
          "metadata": {
            "tags": []
          }
        },
        {
          "output_type": "stream",
          "text": [
            "\n"
          ],
          "name": "stdout"
        }
      ]
    },
    {
      "cell_type": "code",
      "metadata": {
        "id": "rDNFEOzKB8ih",
        "outputId": "7178add4-3c2c-4d3c-b193-2b9814c93ec1",
        "colab": {
          "base_uri": "https://localhost:8080/",
          "height": 544
        }
      },
      "source": [
        "print('Regular recommendation')\n",
        "recommend_similar_dish(dish_name='Sohan Papdi')\n",
        "print('\\n' + '-' * 90)\n",
        "print('Gluten-free recommendation')\n",
        "recommend_similar_dish_gluten_free(dish_name='Sohan Papdi')\n",
        "print('')"
      ],
      "execution_count": 261,
      "outputs": [
        {
          "output_type": "stream",
          "text": [
            "Regular recommendation\n",
            "________________________________________________________________________________\n",
            "Here are similar dishes to \"sohan papdi\" arranged from more similar to least similar\n"
          ],
          "name": "stdout"
        },
        {
          "output_type": "display_data",
          "data": {
            "text/html": [
              "<div>\n",
              "<style scoped>\n",
              "    .dataframe tbody tr th:only-of-type {\n",
              "        vertical-align: middle;\n",
              "    }\n",
              "\n",
              "    .dataframe tbody tr th {\n",
              "        vertical-align: top;\n",
              "    }\n",
              "\n",
              "    .dataframe thead th {\n",
              "        text-align: right;\n",
              "    }\n",
              "</style>\n",
              "<table border=\"1\" class=\"dataframe\">\n",
              "  <thead>\n",
              "    <tr style=\"text-align: right;\">\n",
              "      <th></th>\n",
              "      <th>name</th>\n",
              "      <th>ingredients</th>\n",
              "      <th>diet</th>\n",
              "      <th>prep_time</th>\n",
              "      <th>cook_time</th>\n",
              "      <th>flavor_profile</th>\n",
              "      <th>course</th>\n",
              "      <th>state</th>\n",
              "      <th>region</th>\n",
              "      <th>term score</th>\n",
              "      <th>word score</th>\n",
              "      <th>misc score</th>\n",
              "      <th>similarity score</th>\n",
              "    </tr>\n",
              "  </thead>\n",
              "  <tbody>\n",
              "    <tr>\n",
              "      <th>19</th>\n",
              "      <td>Sohan Papdi</td>\n",
              "      <td>Gram Flour, Ghee, Sugar, Milk, Cardamom</td>\n",
              "      <td>Vegetarian</td>\n",
              "      <td>35.0*</td>\n",
              "      <td>60.0</td>\n",
              "      <td>Sweet</td>\n",
              "      <td>Dessert</td>\n",
              "      <td>Maharashtra</td>\n",
              "      <td>West</td>\n",
              "      <td>1.000000</td>\n",
              "      <td>1.000000</td>\n",
              "      <td>1.0</td>\n",
              "      <td>1.000000</td>\n",
              "    </tr>\n",
              "    <tr>\n",
              "      <th>1</th>\n",
              "      <td>Boondi</td>\n",
              "      <td>Gram Flour, Ghee, Sugar</td>\n",
              "      <td>Vegetarian</td>\n",
              "      <td>80.0</td>\n",
              "      <td>30.0</td>\n",
              "      <td>Sweet</td>\n",
              "      <td>Dessert</td>\n",
              "      <td>Rajasthan</td>\n",
              "      <td>West</td>\n",
              "      <td>0.774597</td>\n",
              "      <td>0.816497</td>\n",
              "      <td>0.8</td>\n",
              "      <td>0.795560</td>\n",
              "    </tr>\n",
              "    <tr>\n",
              "      <th>10</th>\n",
              "      <td>Laddu</td>\n",
              "      <td>Gram Flour, Ghee, Sugar</td>\n",
              "      <td>Vegetarian</td>\n",
              "      <td>10.0</td>\n",
              "      <td>40.0</td>\n",
              "      <td>Sweet</td>\n",
              "      <td>Dessert</td>\n",
              "      <td>Gujarat*</td>\n",
              "      <td>West*</td>\n",
              "      <td>0.774597</td>\n",
              "      <td>0.816497</td>\n",
              "      <td>0.8</td>\n",
              "      <td>0.795560</td>\n",
              "    </tr>\n",
              "    <tr>\n",
              "      <th>7</th>\n",
              "      <td>Kaju Katli</td>\n",
              "      <td>Cashews, Ghee, Cardamom, Sugar</td>\n",
              "      <td>Vegetarian</td>\n",
              "      <td>10.0</td>\n",
              "      <td>20.0</td>\n",
              "      <td>Sweet</td>\n",
              "      <td>Dessert</td>\n",
              "      <td>Gujarat*</td>\n",
              "      <td>West*</td>\n",
              "      <td>0.670820</td>\n",
              "      <td>0.612372</td>\n",
              "      <td>0.8</td>\n",
              "      <td>0.649809</td>\n",
              "    </tr>\n",
              "    <tr>\n",
              "      <th>66</th>\n",
              "      <td>Chak Hao Kheer</td>\n",
              "      <td>Rice, Milk, Sugar, Cardamom</td>\n",
              "      <td>Vegetarian</td>\n",
              "      <td>240.0</td>\n",
              "      <td>45.0</td>\n",
              "      <td>Sweet</td>\n",
              "      <td>Dessert</td>\n",
              "      <td>Manipur</td>\n",
              "      <td>North East</td>\n",
              "      <td>0.670820</td>\n",
              "      <td>0.612372</td>\n",
              "      <td>0.6</td>\n",
              "      <td>0.639809</td>\n",
              "    </tr>\n",
              "  </tbody>\n",
              "</table>\n",
              "</div>"
            ],
            "text/plain": [
              "              name  ... similarity score\n",
              "19     Sohan Papdi  ...         1.000000\n",
              "1           Boondi  ...         0.795560\n",
              "10           Laddu  ...         0.795560\n",
              "7       Kaju Katli  ...         0.649809\n",
              "66  Chak Hao Kheer  ...         0.639809\n",
              "\n",
              "[5 rows x 13 columns]"
            ]
          },
          "metadata": {
            "tags": []
          }
        },
        {
          "output_type": "stream",
          "text": [
            "\n",
            "------------------------------------------------------------------------------------------\n",
            "Gluten-free recommendation\n",
            "________________________________________________________________________________\n",
            "Here are similar dishes to \"sohan papdi\" arranged from more similar to least similar\n"
          ],
          "name": "stdout"
        },
        {
          "output_type": "display_data",
          "data": {
            "text/html": [
              "<div>\n",
              "<style scoped>\n",
              "    .dataframe tbody tr th:only-of-type {\n",
              "        vertical-align: middle;\n",
              "    }\n",
              "\n",
              "    .dataframe tbody tr th {\n",
              "        vertical-align: top;\n",
              "    }\n",
              "\n",
              "    .dataframe thead th {\n",
              "        text-align: right;\n",
              "    }\n",
              "</style>\n",
              "<table border=\"1\" class=\"dataframe\">\n",
              "  <thead>\n",
              "    <tr style=\"text-align: right;\">\n",
              "      <th></th>\n",
              "      <th>name</th>\n",
              "      <th>ingredients</th>\n",
              "      <th>diet</th>\n",
              "      <th>prep_time</th>\n",
              "      <th>cook_time</th>\n",
              "      <th>flavor_profile</th>\n",
              "      <th>course</th>\n",
              "      <th>state</th>\n",
              "      <th>region</th>\n",
              "      <th>term score</th>\n",
              "      <th>word score</th>\n",
              "      <th>misc score</th>\n",
              "      <th>similarity score</th>\n",
              "    </tr>\n",
              "  </thead>\n",
              "  <tbody>\n",
              "    <tr>\n",
              "      <th>7</th>\n",
              "      <td>Kaju Katli</td>\n",
              "      <td>Cashews, Ghee, Cardamom, Sugar</td>\n",
              "      <td>Vegetarian</td>\n",
              "      <td>10.0</td>\n",
              "      <td>20.0</td>\n",
              "      <td>Sweet</td>\n",
              "      <td>Dessert</td>\n",
              "      <td>Gujarat*</td>\n",
              "      <td>West*</td>\n",
              "      <td>0.750000</td>\n",
              "      <td>0.750000</td>\n",
              "      <td>0.8</td>\n",
              "      <td>0.752500</td>\n",
              "    </tr>\n",
              "    <tr>\n",
              "      <th>35</th>\n",
              "      <td>Sandesh</td>\n",
              "      <td>Milk, Sugar, Saffron, Cardamom</td>\n",
              "      <td>Vegetarian</td>\n",
              "      <td>30.0</td>\n",
              "      <td>20.0</td>\n",
              "      <td>Sweet</td>\n",
              "      <td>Dessert</td>\n",
              "      <td>West Bengal</td>\n",
              "      <td>East</td>\n",
              "      <td>0.750000</td>\n",
              "      <td>0.750000</td>\n",
              "      <td>0.6</td>\n",
              "      <td>0.742500</td>\n",
              "    </tr>\n",
              "    <tr>\n",
              "      <th>66</th>\n",
              "      <td>Chak Hao Kheer</td>\n",
              "      <td>Rice, Milk, Sugar, Cardamom</td>\n",
              "      <td>Vegetarian</td>\n",
              "      <td>240.0</td>\n",
              "      <td>45.0</td>\n",
              "      <td>Sweet</td>\n",
              "      <td>Dessert</td>\n",
              "      <td>Manipur</td>\n",
              "      <td>North East</td>\n",
              "      <td>0.750000</td>\n",
              "      <td>0.750000</td>\n",
              "      <td>0.6</td>\n",
              "      <td>0.742500</td>\n",
              "    </tr>\n",
              "    <tr>\n",
              "      <th>2</th>\n",
              "      <td>Gajar Ka Halwa</td>\n",
              "      <td>Carrots, Milk, Sugar, Ghee, Cashews, Raisins</td>\n",
              "      <td>Vegetarian</td>\n",
              "      <td>15.0</td>\n",
              "      <td>60.0</td>\n",
              "      <td>Sweet</td>\n",
              "      <td>Dessert</td>\n",
              "      <td>Punjab</td>\n",
              "      <td>North</td>\n",
              "      <td>0.612372</td>\n",
              "      <td>0.612372</td>\n",
              "      <td>0.6</td>\n",
              "      <td>0.611754</td>\n",
              "    </tr>\n",
              "    <tr>\n",
              "      <th>56</th>\n",
              "      <td>Basundi</td>\n",
              "      <td>Sugar, Milk, Nuts</td>\n",
              "      <td>Vegetarian</td>\n",
              "      <td>10.0</td>\n",
              "      <td>35.0</td>\n",
              "      <td>Sweet</td>\n",
              "      <td>Dessert</td>\n",
              "      <td>Gujarat</td>\n",
              "      <td>West</td>\n",
              "      <td>0.577350</td>\n",
              "      <td>0.577350</td>\n",
              "      <td>0.8</td>\n",
              "      <td>0.588483</td>\n",
              "    </tr>\n",
              "  </tbody>\n",
              "</table>\n",
              "</div>"
            ],
            "text/plain": [
              "              name  ... similarity score\n",
              "7       Kaju Katli  ...         0.752500\n",
              "35         Sandesh  ...         0.742500\n",
              "66  Chak Hao Kheer  ...         0.742500\n",
              "2   Gajar Ka Halwa  ...         0.611754\n",
              "56         Basundi  ...         0.588483\n",
              "\n",
              "[5 rows x 13 columns]"
            ]
          },
          "metadata": {
            "tags": []
          }
        },
        {
          "output_type": "stream",
          "text": [
            "\n"
          ],
          "name": "stdout"
        }
      ]
    }
  ]
}